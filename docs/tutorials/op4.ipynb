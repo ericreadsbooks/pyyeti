{
 "cells": [
  {
   "cell_type": "markdown",
   "metadata": {},
   "source": [
    "# Reading and writing Nastran output4 files\n",
    "\n",
    "This and other notebooks are available here: https://github.com/twmacro/pyyeti/tree/master/docs/tutorials."
   ]
  },
  {
   "cell_type": "markdown",
   "metadata": {},
   "source": [
    "First, do some imports:"
   ]
  },
  {
   "cell_type": "code",
   "execution_count": null,
   "metadata": {},
   "outputs": [],
   "source": [
    "import numpy as np\n",
    "import os\n",
    "from collections import OrderedDict\n",
    "from pyyeti.nastran import op4"
   ]
  },
  {
   "cell_type": "markdown",
   "metadata": {},
   "source": [
    "Generate a couple matrices to write to disk:"
   ]
  },
  {
   "cell_type": "code",
   "execution_count": null,
   "metadata": {},
   "outputs": [],
   "source": [
    "a = np.random.randn(4, 10)\n",
    "b = np.random.randn(5, 14)"
   ]
  },
  {
   "cell_type": "markdown",
   "metadata": {},
   "source": [
    "---\n",
    "### Writing op4 files\n",
    "\n",
    "The [nastran.op4](../modules/nastran/op4.html) module can be used to [read](../modules/nastran/generated/pyyeti.nastran.op4.read.html#pyyeti.nastran.op4.read) and [write](../modules/nastran/generated/pyyeti.nastran.op4.write.html#pyyeti.nastran.op4.write) op4 files. We'll demo writing first."
   ]
  },
  {
   "cell_type": "markdown",
   "metadata": {},
   "source": [
    "#### Using the dictionary option\n",
    "If you don't care about the order of the matrices in the file, you can use a regular dictionary as follows. By default, the file with be a native-endian binary and the matrices will be written in dense (non-sparse) format."
   ]
  },
  {
   "cell_type": "code",
   "execution_count": null,
   "metadata": {},
   "outputs": [],
   "source": [
    "filename = 'rw_op4_demo.op4'\n",
    "op4.write(filename, dict(a=a, b=b))"
   ]
  },
  {
   "cell_type": "markdown",
   "metadata": {},
   "source": [
    "If you do care about order, you can specify the matrices using an OrderedDict. The following rewrites the file but ensures that \"b\" is before \"a\":"
   ]
  },
  {
   "cell_type": "code",
   "execution_count": null,
   "metadata": {},
   "outputs": [],
   "source": [
    "dct = OrderedDict()\n",
    "dct['b'] = b\n",
    "dct['a'] = a\n",
    "op4.write(filename, dct)"
   ]
  },
  {
   "cell_type": "markdown",
   "metadata": {},
   "source": [
    "You can check the order with the [op4.dir](../modules/nastran/generated/pyyeti.nastran.op4.dir.html#pyyeti.nastran.op4.dir) function:"
   ]
  },
  {
   "cell_type": "code",
   "execution_count": null,
   "metadata": {},
   "outputs": [],
   "source": [
    "op4.dir(filename);"
   ]
  },
  {
   "cell_type": "markdown",
   "metadata": {},
   "source": [
    "If you need to specify the matrix form, you can include the desired value in the dictionary. Note, you only need to specify the forms you need. The default is None for each matrix, which means it will be automatically set. For example, if you want to mark matrix \"a\" as symmetric (which makes no sense here ... \"a\" is not even square), but let \"b\" be automatically set:"
   ]
  },
  {
   "cell_type": "code",
   "execution_count": null,
   "metadata": {},
   "outputs": [],
   "source": [
    "dct = OrderedDict()\n",
    "dct['b'] = b\n",
    "dct['a'] = (a, 6)    # form=6 means \"symmetric\"\n",
    "op4.write(filename, dct)\n",
    "op4.dir(filename);"
   ]
  },
  {
   "cell_type": "markdown",
   "metadata": {},
   "source": [
    "#### Using the list option\n",
    "Providing the inputs via lists is an alternative method for writing op4 files. In fact, if you need to write multiple matrices of the same name, you must use the list option. For example, the following writes two matrices named \"a\" to the output file:"
   ]
  },
  {
   "cell_type": "code",
   "execution_count": null,
   "metadata": {},
   "outputs": [],
   "source": [
    "c = np.random.randn(3, 3)\n",
    "c = c + c.T   # make it actually symmetric\n",
    "names = ['a', 'b', 'a']\n",
    "matrices = [a, b, c]\n",
    "op4.write(filename, names, matrices)\n",
    "op4.dir(filename);"
   ]
  },
  {
   "cell_type": "markdown",
   "metadata": {},
   "source": [
    "The forms can also be input via a list. Unlike for dictionaries, if a form entry is needed for one matrix, an entry is needed for all matrices. Just use None's where you want the automatic setting:"
   ]
  },
  {
   "cell_type": "code",
   "execution_count": null,
   "metadata": {},
   "outputs": [],
   "source": [
    "op4.write(filename, names, matrices, forms=[6, None, None])\n",
    "op4.dir(filename);"
   ]
  },
  {
   "cell_type": "markdown",
   "metadata": {},
   "source": [
    "---\n",
    "#### Writing ASCII (text) op4 files:\n",
    "\n",
    "As noted above, matrices are written in binary by default. To write in ASCII format, set `binary` to False:"
   ]
  },
  {
   "cell_type": "code",
   "execution_count": null,
   "metadata": {},
   "outputs": [],
   "source": [
    "dct = OrderedDict()\n",
    "dct['a'] = a\n",
    "dct['b'] = b\n",
    "op4.write(filename, dct, binary=False)"
   ]
  },
  {
   "cell_type": "markdown",
   "metadata": {},
   "source": [
    "Show the first 5 lines to see the ASCII format:"
   ]
  },
  {
   "cell_type": "code",
   "execution_count": null,
   "metadata": {},
   "outputs": [],
   "source": [
    "with open(filename) as f:\n",
    "    for i in range(5):\n",
    "        print(f.readline().strip())"
   ]
  },
  {
   "cell_type": "markdown",
   "metadata": {},
   "source": [
    "When writing in ASCII, you can specify the number of digits (also marking \"a\" as symmetric for demonstration):"
   ]
  },
  {
   "cell_type": "code",
   "execution_count": null,
   "metadata": {},
   "outputs": [],
   "source": [
    "dct = OrderedDict()\n",
    "dct['a'] = (a, 6)\n",
    "dct['b'] = b\n",
    "op4.write(filename, dct, binary=False, digits=9)\n",
    "with open(filename) as f:\n",
    "    for i in range(5):\n",
    "        print(f.readline().strip())"
   ]
  },
  {
   "cell_type": "markdown",
   "metadata": {},
   "source": [
    "For comparison, rewrite the ASCII file using the \"bigmat\" sparse format:"
   ]
  },
  {
   "cell_type": "code",
   "execution_count": null,
   "metadata": {},
   "outputs": [],
   "source": [
    "op4.write(filename, dct, binary=False, digits=9, sparse='bigmat')\n",
    "with open(filename) as f:\n",
    "    for i in range(5):\n",
    "        print(f.readline().strip())"
   ]
  },
  {
   "cell_type": "markdown",
   "metadata": {},
   "source": [
    "Rewrite again, but this time using the \"nonbigmat\" sparse format:"
   ]
  },
  {
   "cell_type": "code",
   "execution_count": null,
   "metadata": {},
   "outputs": [],
   "source": [
    "op4.write(filename, dct, binary=False, digits=9, sparse='nonbigmat')\n",
    "with open(filename) as f:\n",
    "    for i in range(5):\n",
    "        print(f.readline().strip())"
   ]
  },
  {
   "cell_type": "markdown",
   "metadata": {},
   "source": [
    "---\n",
    "### Reading op4 files\n",
    "\n",
    "Use [op4.read](../modules/nastran/generated/pyyeti.nastran.op4.read.html#pyyeti.nastran.op4.read) to read op4 files.\n",
    "\n",
    "#### Reading into an OrderedDict"
   ]
  },
  {
   "cell_type": "code",
   "execution_count": null,
   "metadata": {},
   "outputs": [],
   "source": [
    "op4.write(filename, dict(a=a, b=b))\n",
    "dct = op4.read(filename)\n",
    "assert np.all(dct['a'] == a)\n",
    "assert np.all(dct['b'] == b)"
   ]
  },
  {
   "cell_type": "markdown",
   "metadata": {},
   "source": [
    "The \"pretty-print\" class from pyYeti can help in viewing the dictionary:"
   ]
  },
  {
   "cell_type": "code",
   "execution_count": null,
   "metadata": {},
   "outputs": [],
   "source": [
    "from pyyeti.pp import PP\n",
    "PP(dct);"
   ]
  },
  {
   "cell_type": "markdown",
   "metadata": {},
   "source": [
    "If you need to read in the form and type, set the `justmatrix` option to False (or use the [load](../modules/nastran/generated/pyyeti.nastran.op4.load.html#pyyeti.nastran.op4.load) function ... it is the same as [read](../modules/nastran/generated/pyyeti.nastran.op4.read.html#pyyeti.nastran.op4.read) except the default on `justmatrix`). In this case, each dictionary entry is a 3-element tuple: (matrix, form, type):"
   ]
  },
  {
   "cell_type": "code",
   "execution_count": null,
   "metadata": {},
   "outputs": [],
   "source": [
    "dct = op4.read(filename, justmatrix=False)\n",
    "assert np.all(dct['a'][0] == a)\n",
    "assert np.all(dct['b'][0] == b)\n",
    "PP(dct);"
   ]
  },
  {
   "cell_type": "markdown",
   "metadata": {},
   "source": [
    "#### Reading into lists\n",
    "If the op4 file has duplicate names, you'll have to read the variables into a list:"
   ]
  },
  {
   "cell_type": "code",
   "execution_count": null,
   "metadata": {},
   "outputs": [],
   "source": [
    "b2 = b + 10\n",
    "op4.write(filename, ['b', 'a', 'b'], [b, a, b2])\n",
    "names, mats, forms, types = op4.read(filename, into='list')\n",
    "names"
   ]
  },
  {
   "cell_type": "code",
   "execution_count": null,
   "metadata": {},
   "outputs": [],
   "source": [
    "assert np.all(b == mats[0])\n",
    "assert np.all(a == mats[1])\n",
    "assert np.all(b2 == mats[2])"
   ]
  },
  {
   "cell_type": "markdown",
   "metadata": {},
   "source": [
    "---\n",
    "### Reading and writing sparse matrices\n",
    "There are two aspects to \"sparse\" for this module:\n",
    "\n",
    "1. There's the on-disk format. Matrices can be written in \"dense\" or one of the two sparse formats: either \"bigmat\" or \"nonbigmat\". The writing format is controlled by the `sparse` option of the [write](../modules/nastran/generated/pyyeti.nastran.op4.write.html#pyyeti.nastran.op4.write) function.\n",
    "\n",
    "2. There's also the in-memory format. Matrices can be read into regular ``numpy.ndarray`` matrices or into ``scipy.sparse`` sparse matrices. This is controlled by the `sparse` option of the [read](../modules/nastran/generated/pyyeti.nastran.op4.read.html#pyyeti.nastran.op4.read) or [load](../modules/nastran/generated/pyyeti.nastran.op4.load.html#pyyeti.nastran.op4.load) functions.\n",
    "\n",
    "These two aspects are independent of each other. For example, [numpy.ndarray](https://numpy.org/doc/stable/reference/generated/numpy.ndarray.html) matrices can be written in a sparse format and matrices written in the dense format can be read into [scipy.sparse](https://docs.scipy.org/doc//scipy/reference/sparse.html) matrices."
   ]
  },
  {
   "cell_type": "markdown",
   "metadata": {},
   "source": [
    "To work with sparse matrices, we'll need the [scipy.sparse](https://docs.scipy.org/doc//scipy/reference/sparse.html) module:"
   ]
  },
  {
   "cell_type": "code",
   "execution_count": null,
   "metadata": {},
   "outputs": [],
   "source": [
    "import scipy.sparse as sp"
   ]
  },
  {
   "cell_type": "markdown",
   "metadata": {},
   "source": [
    "First, create a 5 million by 5 million sparse matrix with just 3 elements to experiment with:"
   ]
  },
  {
   "cell_type": "code",
   "execution_count": null,
   "metadata": {},
   "outputs": [],
   "source": [
    "data = [2.3, 5, -100.4]\n",
    "rows = [2, 500000, 350000]\n",
    "cols = [3750000, 500000, 4999999]\n",
    "a = sp.csr_matrix((data, (rows, cols)), shape=(5000000, 5000000))\n",
    "a"
   ]
  },
  {
   "cell_type": "code",
   "execution_count": null,
   "metadata": {},
   "outputs": [],
   "source": [
    "print(a)"
   ]
  },
  {
   "cell_type": "markdown",
   "metadata": {},
   "source": [
    "Save matrix to op4 file. Note: ``sparse='bigmat'`` is the default for [scipy.sparse](https://docs.scipy.org/doc//scipy/reference/sparse.html) matrices. But, it doesn't hurt to specify it explicitly:"
   ]
  },
  {
   "cell_type": "code",
   "execution_count": null,
   "metadata": {},
   "outputs": [],
   "source": [
    "op4.write(filename, dict(a=a), sparse='bigmat')"
   ]
  },
  {
   "cell_type": "markdown",
   "metadata": {},
   "source": [
    "Read matrix back in. The default when reading *any* matrix is to create regular [numpy.ndarray](https://numpy.org/doc/stable/reference/generated/numpy.ndarray.html) matrices. Therefore, the `sparse` option is required here:"
   ]
  },
  {
   "cell_type": "code",
   "execution_count": null,
   "metadata": {},
   "outputs": [],
   "source": [
    "dct = op4.read(filename, sparse=True)\n",
    "dct"
   ]
  },
  {
   "cell_type": "markdown",
   "metadata": {},
   "source": [
    "All sparse matrices are returned in the COO format by default. To get the sparse matrix in the CSR format (for example) instead of the COO format, you can specify the `sparse` option as a two-tuple:"
   ]
  },
  {
   "cell_type": "code",
   "execution_count": null,
   "metadata": {},
   "outputs": [],
   "source": [
    "dct = op4.read(filename, sparse=(True, sp.coo_matrix.tocsr))\n",
    "dct"
   ]
  },
  {
   "cell_type": "markdown",
   "metadata": {},
   "source": [
    "### Translate an op4 file to another op4 format\n",
    "As a final example, these tools can be used to rewrite an op4 file in a different format very easily. This examples translates a sparse format binary op4 file to a simpler ascii format while preserving the matrix forms. For demonstration, we'll define \"a\" as symmetric (form=6) even though it's not even square:"
   ]
  },
  {
   "cell_type": "code",
   "execution_count": null,
   "metadata": {},
   "outputs": [],
   "source": [
    "a = np.random.randn(4, 10)\n",
    "b = np.random.randn(5, 14)\n",
    "dct = OrderedDict()\n",
    "dct['b'] = b\n",
    "dct['a'] = [a, 6]\n",
    "op4.write(filename, dct, sparse='bigmat')"
   ]
  },
  {
   "cell_type": "markdown",
   "metadata": {},
   "source": [
    "Translate it to simple non-sparse ascii, preserving the forms:"
   ]
  },
  {
   "cell_type": "code",
   "execution_count": null,
   "metadata": {},
   "outputs": [],
   "source": [
    "dct = op4.load(filename)\n",
    "asciifile = filename.replace('.op4', '_ascii.op4')\n",
    "op4.write(asciifile, dct, binary=False)"
   ]
  },
  {
   "cell_type": "markdown",
   "metadata": {},
   "source": [
    "Check that the order and forms are the same:"
   ]
  },
  {
   "cell_type": "code",
   "execution_count": null,
   "metadata": {},
   "outputs": [],
   "source": [
    "op4.dir(filename);"
   ]
  },
  {
   "cell_type": "code",
   "execution_count": null,
   "metadata": {},
   "outputs": [],
   "source": [
    "op4.dir(asciifile);"
   ]
  },
  {
   "cell_type": "code",
   "execution_count": null,
   "metadata": {},
   "outputs": [],
   "source": [
    "os.remove(filename)\n",
    "os.remove(asciifile)"
   ]
  }
 ],
 "metadata": {
  "kernelspec": {
   "display_name": "Python 3 (ipykernel)",
   "language": "python",
   "name": "python3"
  },
  "language_info": {
   "codemirror_mode": {
    "name": "ipython",
    "version": 3
   },
   "file_extension": ".py",
   "mimetype": "text/x-python",
   "name": "python",
   "nbconvert_exporter": "python",
   "pygments_lexer": "ipython3",
   "version": "3.10.4"
  }
 },
 "nbformat": 4,
 "nbformat_minor": 1
}
