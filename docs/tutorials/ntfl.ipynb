{
 "cells": [
  {
   "cell_type": "markdown",
   "metadata": {},
   "source": [
    "# Showing that Norton-Thevenin Can Equal CLA\n",
    "\n",
    "## Using the `frclim.ntfl` routine to compute coupled system response\n",
    "\n",
    "This and other jupyter notebooks are available here: https://github.com/twmacro/pyyeti/tree/master/docs/tutorials."
   ]
  },
  {
   "cell_type": "markdown",
   "metadata": {},
   "source": [
    "The goal of this tutorial is to show that the Norton-Thevenin (NT) method of coupling a \"Source\" model and a \"Load\" model together and computing the system response can be equivalent to coupling the models together the \"old fashioned\" way and computing the system response. The old fashioned way is what is done in a standard Nastran superelement run; that is, it forms coupled system mass, damping, and stiffness matrices by enforcing boundary compatibility, computes system modes (typically), and solves the equations of motion. A typical Coupled Loads Analysis (CLA) couples models together in this fashion.\n",
    "\n",
    "The NT approach also enforces boundary compatibility and computes coupled system response, but does not form system matrices or compute system modes. Instead, it uses the \"apparent masses\" of the Source and the Load and the \"free acceleration\" of the Source to compute the system level responses. The NT coupling equations and their derivation are shown here: [pyyeti.frclim.ntfl](../modules/generated/pyyeti.frclim.ntfl.html#pyyeti.frclim.ntfl) (see equations 4 & 5). Note that the NT method is naturally a frequency domain method and, for simplicity, this tutorial will compute only frequency domain responses. Also, these models have a **statically-indeterminate** interface, showing that the method is general.\n",
    "\n",
    "To demonstrate that the NT approach can equal CLA approach for a frequency domain analysis, we'll pick two models already available in the pyYeti package. The \"inboard\" model will be the Source, and the \"outboard\" model will be the Load. These happen to both be Hurty-Craig-Bampton (HCB) models, but that is not necessary for applying the NT method.\n",
    "\n",
    "*Note:*\n",
    "\n",
    ">No matter which format the models are in, be sure to include the complete boundary flexibility in both the Source and Load models when applying the NT method. HCB models will normally contain the required boundary flexibility in the normal and constraint modes. While that is likey the case with our models, for the demonstration here, we will simply considered them to be \"exact\" and will make no effort to ensure they accurately represent the original FEM models.\n",
    "\n",
    "Steps:\n",
    "1. Load models\n",
    "2. Set up a frequency domain forcing function\n",
    "3. Couple the models together the old fashioned way\n",
    "   1. Compute system responses the old fashioned way\n",
    "4. Couple the models together via the NT approach\n",
    "   1. Compute apparent masses and free acceleration\n",
    "   2. Compute system responses via the NT method\n",
    "5. Compare results\n",
    "\n"
   ]
  },
  {
   "cell_type": "markdown",
   "metadata": {},
   "source": [
    "For this example, we'll use a simple space-station model that has been reduced into two separate Hurty-Craig-Bampton models: an \"inboard\" model and an \"outboard\" model. These model attach at nodes 3, 11, 19, and 27."
   ]
  },
  {
   "cell_type": "markdown",
   "metadata": {},
   "source": [
    "The inboard model (the Source):\n",
    "\n",
    ".. image:: inboard.png\n",
    "<img src=\"./inboard.png\" />\n",
    "\n",
    "The outboard model (the Load):\n",
    "\n",
    ".. image:: outboard.png\n",
    "<img src=\"./outboard.png\" />"
   ]
  },
  {
   "cell_type": "markdown",
   "metadata": {},
   "source": [
    "---\n",
    "First, do some imports:"
   ]
  },
  {
   "cell_type": "code",
   "execution_count": null,
   "metadata": {},
   "outputs": [],
   "source": [
    "import inspect\n",
    "from pathlib import Path\n",
    "import numpy as np\n",
    "from scipy import linalg as la\n",
    "import matplotlib.pyplot as plt\n",
    "from pyyeti import ode, frclim\n",
    "from pyyeti.nastran import bulk, op4, n2p\n",
    "from pyyeti.pp import PP"
   ]
  },
  {
   "cell_type": "markdown",
   "metadata": {},
   "source": [
    "Some settings specifically for the jupyter notebook:"
   ]
  },
  {
   "cell_type": "code",
   "execution_count": null,
   "metadata": {},
   "outputs": [],
   "source": [
    "%matplotlib inline\n",
    "plt.rcParams['figure.figsize'] = [6.4, 4.8]\n",
    "plt.rcParams['figure.dpi'] = 150."
   ]
  },
  {
   "cell_type": "markdown",
   "metadata": {},
   "source": [
    "Need path to data files:"
   ]
  },
  {
   "cell_type": "code",
   "execution_count": null,
   "metadata": {},
   "outputs": [],
   "source": [
    "srcdir = Path(inspect.getfile(frclim)).parent / \"tests\" / \"nas2cam_extseout\""
   ]
  },
  {
   "cell_type": "markdown",
   "metadata": {},
   "source": [
    "#### Load model data\n",
    "\n",
    "Also add 2% critical modal damping for both models:"
   ]
  },
  {
   "cell_type": "code",
   "execution_count": null,
   "metadata": {},
   "outputs": [],
   "source": [
    "zeta = 0.02\n",
    "ids = (\"out\", \"in\")\n",
    "uset, cords, b = {}, {}, {}\n",
    "mats = {}\n",
    "for id in ids:\n",
    "    uset[id], cords[id], b[id] = bulk.asm2uset(srcdir / f\"{id}board.asm\")\n",
    "    mats[id] = op4.read(srcdir / f\"{id}board.op4\")\n",
    "\n",
    "    # add damping:\n",
    "    bxx = 0 * mats[id][\"kxx\"]\n",
    "    q = ~b[id]\n",
    "    lam = np.diag(mats[id][\"kxx\"])[q]\n",
    "    damp = 2 * np.sqrt(lam) * zeta\n",
    "    bxx[q, q] = damp\n",
    "    mats[id][\"bxx\"] = bxx\n",
    "    \n",
    "PP(mats, 2);"
   ]
  },
  {
   "cell_type": "markdown",
   "metadata": {},
   "source": [
    "For convenience and ease of reading, create some shorter names for the mass, damping, and stiffness matrices:"
   ]
  },
  {
   "cell_type": "code",
   "execution_count": null,
   "metadata": {},
   "outputs": [],
   "source": [
    "maa = {\n",
    "    \"in\": mats[\"in\"][\"mxx\"],\n",
    "    \"out\": mats[\"out\"][\"mxx\"],\n",
    "}\n",
    "kaa = {\n",
    "    \"in\": mats[\"in\"][\"kxx\"],\n",
    "    \"out\": mats[\"out\"][\"kxx\"],\n",
    "}\n",
    "baa = {\n",
    "    \"in\": mats[\"in\"][\"bxx\"],\n",
    "    \"out\": mats[\"out\"][\"bxx\"],\n",
    "}"
   ]
  },
  {
   "cell_type": "markdown",
   "metadata": {},
   "source": [
    "#### Define the forcing function\n",
    "\n",
    "We'll use the first TLOAD vector of \"inboard\" to apply a force to the coupled system. This load vector applies forces to nodes 13 & 21. For simplicity, we'll keep the forces constant across the frequency range.\n",
    "\n",
    "The analysis will cover the frequency range 0.01 to 100.0 Hz on a logarithmic scale."
   ]
  },
  {
   "cell_type": "code",
   "execution_count": null,
   "metadata": {},
   "outputs": [],
   "source": [
    "freq = np.geomspace(0.01, 100.0, 4 * 167 + 1)\n",
    "\n",
    "# use first TLOAD vector and expand it:\n",
    "force_in = mats[\"in\"][\"px\"][:, :1] @ np.ones((1, len(freq)))\n",
    "force_in.shape"
   ]
  },
  {
   "cell_type": "markdown",
   "metadata": {},
   "source": [
    "Take a quick look at the inboard applied forces:"
   ]
  },
  {
   "cell_type": "code",
   "execution_count": null,
   "metadata": {},
   "outputs": [],
   "source": [
    "np.set_printoptions(precision=3, linewidth=130, suppress=True)\n",
    "force_in[:, :5]"
   ]
  },
  {
   "cell_type": "markdown",
   "metadata": {},
   "source": [
    "#### Couple models together the old fashioned way:\n",
    "\n",
    "We'll define a matrix 'S' that will enforce boundary compatibility. It defines the relationship from the DOF chosen to be the independent set ($p_{ind}$) to all the DOF ($p_{all}$):\n",
    "\n",
    "$$p_{all} = \\mathbf{S} \\cdot p_{ind}$$\n",
    "\n",
    "$$\\left \\{ \\begin{array}{c} in_b \\\\ in_q \\\\ out_b \\\\ out_q \\end{array} \\right \\}\n",
    "= \\mathbf{S} \\left \\{ \\begin{array}{c} in_b \\\\ in_q \\\\ out_q \\end{array} \\right \\}$$\n",
    "\n",
    "Since $out_b = in_b$:\n",
    "\n",
    "$$\\left \\{ \\begin{array}{c} in_b \\\\ in_q \\\\ out_b \\\\ out_q \\end{array} \\right \\}\n",
    "= \\left [ \\begin{array}{ccc}\n",
    "I & 0 & 0 \\\\\n",
    "0 & I & 0 \\\\\n",
    "I & 0 & 0 \\\\\n",
    "0 & 0 & I \\\\\n",
    "\\end{array} \\right ]\n",
    "\\left \\{ \\begin{array}{c} in_b \\\\ in_q \\\\ out_q \\end{array} \\right \\}$$\n",
    "\n",
    "The following code takes advantage of the fact that the b-set is ordered first for both models."
   ]
  },
  {
   "cell_type": "code",
   "execution_count": null,
   "metadata": {},
   "outputs": [],
   "source": [
    "m = maa[\"in\"].shape[0]\n",
    "n = maa[\"out\"].shape[0]\n",
    "nb = np.count_nonzero(b[\"in\"])\n",
    "S = {}\n",
    "S[\"in\"] = np.block(\n",
    "    [\n",
    "        [np.eye(nb), np.zeros((nb, m + n - 2 * nb))],\n",
    "        [np.zeros((m - nb, nb)), np.eye(m - nb), np.zeros((m - nb, n - nb))],\n",
    "    ]\n",
    ")\n",
    "S[\"out\"] = np.block(\n",
    "    [\n",
    "        [np.eye(nb), np.zeros((nb, m + n - 2 * nb))],\n",
    "        [np.zeros((n - nb, m)), np.eye(n - nb)],\n",
    "    ]\n",
    ")\n",
    "S[\"tot\"] = np.vstack((S[\"in\"], S[\"out\"]))"
   ]
  },
  {
   "cell_type": "markdown",
   "metadata": {},
   "source": [
    "Apply the S matrix to couple the models together:"
   ]
  },
  {
   "cell_type": "code",
   "execution_count": null,
   "metadata": {},
   "outputs": [],
   "source": [
    "mc = S[\"tot\"].T @ la.block_diag(maa[\"in\"], maa[\"out\"]) @ S[\"tot\"]\n",
    "kc = S[\"tot\"].T @ la.block_diag(kaa[\"in\"], kaa[\"out\"]) @ S[\"tot\"]\n",
    "bc = S[\"tot\"].T @ la.block_diag(baa[\"in\"], baa[\"out\"]) @ S[\"tot\"]"
   ]
  },
  {
   "cell_type": "markdown",
   "metadata": {},
   "source": [
    "As a check, compare coupled model frequencies to Nastran:"
   ]
  },
  {
   "cell_type": "code",
   "execution_count": null,
   "metadata": {},
   "outputs": [],
   "source": [
    "lam, phi = la.eigh(kc, mc)\n",
    "freqsys = np.sqrt(abs(lam)) / 2 / np.pi\n",
    "eigen = bulk.rdeigen(srcdir / \"assemble.out\")\n",
    "np.allclose(freqsys[6:], eigen[0][\"cycles\"][6:])"
   ]
  },
  {
   "cell_type": "markdown",
   "metadata": {},
   "source": [
    "##### Solve the equations of motion the old fashioned way\n",
    "\n",
    "We'll solve the equations of motion using [pyyeti.ode.FreqDirect](../modules/generated/pyyeti.ode.FreqDirect.html#pyyeti.ode.FreqDirect) and recover responses for both components. Note that upstream data recovery could be done easily with the \"mug1\", \"mef1\" and \"mes1\" matrices loaded from the op4 files above.\n",
    "\n",
    "Note: normally, [pyyeti.ode.SolveUnc](../modules/generated/pyyeti.ode.SolveUnc.html#pyyeti.ode.SolveUnc) is preferred, but that solver did not work for this problem due to numerical issues."
   ]
  },
  {
   "cell_type": "code",
   "execution_count": null,
   "metadata": {},
   "outputs": [],
   "source": [
    "fs = ode.FreqDirect(mc, bc, kc)\n",
    "force = S[\"in\"].T @ force_in\n",
    "sol = fs.fsolve(force, freq)\n",
    "\n",
    "# recover displacements, velocities, and accelerations for both components:\n",
    "d, v, a = {}, {}, {}\n",
    "ifforce = {}\n",
    "for id in ids:\n",
    "    d[id] = S[id] @ sol.d\n",
    "    v[id] = S[id] @ sol.v\n",
    "    a[id] = S[id] @ sol.a\n",
    "\n",
    "    ifforce[id] = (maa[id] @ a[id] + baa[id] @ v[id] + kaa[id] @ d[id])[:nb]"
   ]
  },
  {
   "cell_type": "markdown",
   "metadata": {},
   "source": [
    "Do some sanity checks on the results. The boundary accelerations, velocities, and displacements should match, and the boundary forces from one component on the other should be equal and opposite.\n",
    "\n",
    "*Note:*\n",
    "\n",
    ">In the lowest frequencies, we lose some numerical precision on the boundary forces. We'll explore this a little more later in the NT context. For now, we'll note that the forces are still very close and that above 1.0 Hz, the `np.allclose` check passes."
   ]
  },
  {
   "cell_type": "code",
   "execution_count": null,
   "metadata": {},
   "outputs": [],
   "source": [
    "print(f'{np.allclose(a[\"in\"][:nb], a[\"out\"][:nb]) = }')\n",
    "print(f'{np.allclose(v[\"in\"][:nb], v[\"out\"][:nb]) = }')\n",
    "print(f'{np.allclose(d[\"in\"][:nb], d[\"out\"][:nb]) = }')\n",
    "\n",
    "print()\n",
    "print(f'{np.allclose(-ifforce[\"out\"], ifforce[\"in\"] - force[:nb]) = }')\n",
    "print(f'{abs(ifforce[\"out\"] + (ifforce[\"in\"] - force[:nb])).max() = }')\n",
    "\n",
    "pv = freq >= 1.0\n",
    "print()\n",
    "print(f'For freq >= 1.0:\\n\\t{np.allclose(-ifforce[\"out\"][:, pv], ifforce[\"in\"][:, pv] - force[:nb, pv]) = }')"
   ]
  },
  {
   "cell_type": "markdown",
   "metadata": {},
   "source": [
    "#### Use the NT approach to couple models together\n",
    "\n",
    "First, we'll compute the \"free acceleration\" $A_s$:"
   ]
  },
  {
   "cell_type": "code",
   "execution_count": null,
   "metadata": {},
   "outputs": [],
   "source": [
    "fs_in = ode.FreqDirect(maa[\"in\"], baa[\"in\"], kaa[\"in\"])\n",
    "As = fs_in.fsolve(force_in, freq).a[:nb]"
   ]
  },
  {
   "cell_type": "markdown",
   "metadata": {},
   "source": [
    "Next, we'll compute the apparent masses and call [pyyeti.frclim.ntfl](../modules/generated/pyyeti.frclim.ntfl.html#pyyeti.frclim.ntfl) to compute coupled system responses.\n",
    "\n",
    "For illustration and as a check on the routine, we'll use both methods within [pyyeti.frclim.calcAM](../modules/generated/pyyeti.frclim.calcAM.html#pyyeti.frclim.calcAM) to compute the apparent masses. Those two methods are labeled as `cbtf` and `fsolve` here; for more information, see [pyyeti.frclim.calcAM](../modules/generated/pyyeti.frclim.calcAM.html#pyyeti.frclim.calcAM).\n",
    "\n",
    "Note that we get a warning from [pyyeti.frclim.calcAM](../modules/generated/pyyeti.frclim.calcAM.html#pyyeti.frclim.calcAM) about switching to the [pyyeti.ode.FreqDirect](../modules/generated/pyyeti.ode.FreqDirect.html#pyyeti.ode.FreqDirect) solver. This is due to the same issues as noted above. We could avoid the warning by preparing our own `fs` input to [pyyeti.frclim.calcAM](../modules/generated/pyyeti.frclim.calcAM.html#pyyeti.frclim.calcAM)."
   ]
  },
  {
   "cell_type": "code",
   "execution_count": null,
   "metadata": {},
   "outputs": [],
   "source": [
    "AM = {}\n",
    "NT = {}\n",
    "for method in (\"cbtf\", \"fsolve\"):\n",
    "    AM[method] = {}\n",
    "    for id in ids:\n",
    "        if method == \"cbtf\":\n",
    "            drm = np.arange(nb)\n",
    "        else:\n",
    "            drm = np.zeros((nb, maa[id].shape[0]))\n",
    "            drm[:, b[id]] = np.eye(nb)\n",
    "        AM[method][id] = frclim.calcAM([maa[id], baa[id], kaa[id], drm], freq)\n",
    "\n",
    "    NT[method] = frclim.ntfl(AM[method][\"in\"], AM[method][\"out\"], As, freq)"
   ]
  },
  {
   "cell_type": "markdown",
   "metadata": {},
   "source": [
    "Perform some sanity checks and comparisons against the \"CLA\" (old fashioned) approach. Again, we see some loss of numerical precision at the lowest frequencies as we noted above for the CLA approach. We'll discuss this below."
   ]
  },
  {
   "cell_type": "code",
   "execution_count": null,
   "metadata": {},
   "outputs": [],
   "source": [
    "for method in NT:\n",
    "    print()\n",
    "    print(method)\n",
    "    print(f'\\t{np.allclose(ifforce[\"out\"][:, pv], NT[method].F[:, pv]) = }')\n",
    "    print(f'\\t{np.allclose(a[\"out\"][:nb, pv], NT[method].A[:, pv]) = }')\n",
    "    print(f'\\t{abs(ifforce[\"out\"] - NT[method].F).max() = }')\n",
    "    print(f'\\t{abs(a[\"out\"][:nb] - NT[method].A).max() = }')"
   ]
  },
  {
   "cell_type": "markdown",
   "metadata": {},
   "source": [
    "As noted above, we lose some numerical precision in the lowest frequencies. In the NT approach, this appears to be due to very large apparent mass values. To illustrate, here are the apparent mass curves for both approaches for the `x` DOF of the first boundary node for the Source model.\n",
    "\n",
    "It's plotted on two different scales because it's interesting and informative."
   ]
  },
  {
   "cell_type": "code",
   "execution_count": null,
   "metadata": {},
   "outputs": [],
   "source": [
    "fig = plt.figure(\"AM\", clear=True, layout=\"constrained\", figsize=(10, 3))\n",
    "axes = fig.subplots(1, 2, sharey=True)\n",
    "for method in AM:\n",
    "    axes[0].semilogy(freq, abs(AM[method][\"in\"][0, :, 0]), label=method)\n",
    "    axes[1].loglog(freq, abs(AM[method][\"in\"][0, :, 0]), label=method)\n",
    "axes[0].set_xlabel(\"Frequency (Hz)\")\n",
    "axes[1].set_xlabel(\"Frequency (Hz)\")\n",
    "axes[0].set_ylabel(\"X Apparent Mass (mass)\");"
   ]
  },
  {
   "cell_type": "markdown",
   "metadata": {},
   "source": [
    "Similarly, for the Load model:"
   ]
  },
  {
   "cell_type": "code",
   "execution_count": null,
   "metadata": {},
   "outputs": [],
   "source": [
    "fig = plt.figure(\"AM\", clear=True, layout=\"constrained\", figsize=(10, 3))\n",
    "axes = fig.subplots(1, 2, sharey=True)\n",
    "for method in AM:\n",
    "    axes[0].semilogy(freq, abs(AM[method][\"out\"][0, :, 0]), label=method)\n",
    "    axes[1].loglog(freq, abs(AM[method][\"out\"][0, :, 0]), label=method)\n",
    "axes[0].set_xlabel(\"Frequency (Hz)\")\n",
    "axes[1].set_xlabel(\"Frequency (Hz)\")\n",
    "axes[0].set_ylabel(\"X Apparent Mass (mass)\");"
   ]
  },
  {
   "cell_type": "markdown",
   "metadata": {},
   "source": [
    "One way to think about the apparent mass is that it is the set of forces required to enforce a unit acceleration on one boundary DOF while restraining all other boundary DOF. (That would be one column of the apparent mass matrix at a particular frequency.) In other words, in $f = m a$, if $a = \\mathbf{I}$, then the apparent mass $m$ is equal to the force $f$. As frequency approaches zero, the forces required to impose this non-rigid-body boundary condition can become very large, meaning the apparent mass values become very large.\n",
    "\n",
    "Note that for statically-determinate interfaces, the apparent mass simply approaches the rigid-body mass as frequency approaches 0.0 Hz since the system will move as a rigid-body.\n",
    "\n",
    "Note also that a similar loss of precision occurs in the CLA approach, so it's not a unique feature of the NT method.\n",
    "\n",
    "However, even down to 0.01 Hz, the results for both approaches are still quite close, and above 1.0 Hz, all the `np.allclose` checks return True."
   ]
  },
  {
   "cell_type": "markdown",
   "metadata": {},
   "source": [
    "For illustration, we'll plot some of the interface forces and boundary accelerations. We can see that NT responses are the same as the CLA responses."
   ]
  },
  {
   "cell_type": "markdown",
   "metadata": {},
   "source": [
    "First, compare the interface forces for the 4th boundary node (as an example):"
   ]
  },
  {
   "cell_type": "code",
   "execution_count": null,
   "metadata": {},
   "outputs": [],
   "source": [
    "fig = plt.figure(\"ifforce\", clear=True, layout=\"constrained\", figsize=(8, 11))\n",
    "frcaxes = fig.subplots(6, 1, sharex=True)\n",
    "\n",
    "ylabels = [\"$F_X$\", \"$F_Y$\", \"$F_Z$\", \"$M_X$\", \"$M_Y$\", \"$M_Z$\"]\n",
    "node = 4\n",
    "for j, ax in enumerate(frcaxes):\n",
    "    row = j + (node - 1) * 6\n",
    "    which = \"Force\" if ylabels[j].startswith(\"$F\") else \"Moment\"\n",
    "    for method in NT:\n",
    "        ax.semilogy(\n",
    "            freq, abs(NT[method].F[row]), label=f\"NT[{method!r}] I/F {which}\"\n",
    "        )\n",
    "    ax.semilogy(freq, abs(ifforce[\"out\"][row]), \"--\", label=f\"CLA I/F {which}\")\n",
    "    ax.legend()\n",
    "    ax.set_ylabel(ylabels[j])\n",
    "\n",
    "frcaxes[0].set_title(f\"Magnitude of I/F Force on 'Outboard', Boundary Node #{node}\")\n",
    "frcaxes[-1].set_xlabel(\"Frequency (Hz)\");"
   ]
  },
  {
   "cell_type": "markdown",
   "metadata": {},
   "source": [
    "Next, compare the interface accelerations for the 4th boundary node. For reference, the free acceleration for this node is also plotted:"
   ]
  },
  {
   "cell_type": "code",
   "execution_count": null,
   "metadata": {},
   "outputs": [],
   "source": [
    "fig = plt.figure(\"ifacce\", clear=True, layout=\"constrained\", figsize=(8, 11))\n",
    "acceaxes = fig.subplots(6, 1, sharex=True)\n",
    "\n",
    "ylabels = [\"$A_{X}$\", \"$A_{Y}$\", \"$A_{Z}$\", \"$A_{RX}$\", \"$A_{RY}$\", \"$A_{RZ}$\"]\n",
    "for j, ax in enumerate(acceaxes):\n",
    "    row = j + (node - 1) * 6\n",
    "    for method in NT:\n",
    "        ax.semilogy(\n",
    "            freq, abs(NT[method].A[row]), label=f\"NT[{method!r}] Coupled Acce\"\n",
    "        )\n",
    "    ax.semilogy(freq, abs(a[\"out\"][row]), \"--\", label=\"CLA Coupled Acce\")\n",
    "    ax.semilogy(freq, abs(As[row]), label=\"Free Acce\")\n",
    "    ax.legend()\n",
    "    ax.set_ylabel(ylabels[j])\n",
    "\n",
    "acceaxes[0].set_title(f\"Magnitude of I/F Acceleration, Boundary Node #{node}\")\n",
    "acceaxes[-1].set_xlabel(\"Frequency (Hz)\");"
   ]
  },
  {
   "cell_type": "code",
   "execution_count": null,
   "metadata": {},
   "outputs": [],
   "source": []
  }
 ],
 "metadata": {
  "anaconda-cloud": {},
  "kernelspec": {
   "display_name": "Python 3 (ipykernel)",
   "language": "python",
   "name": "python3"
  },
  "language_info": {
   "codemirror_mode": {
    "name": "ipython",
    "version": 3
   },
   "file_extension": ".py",
   "mimetype": "text/x-python",
   "name": "python",
   "nbconvert_exporter": "python",
   "pygments_lexer": "ipython3",
   "version": "3.11.5"
  }
 },
 "nbformat": 4,
 "nbformat_minor": 1
}
