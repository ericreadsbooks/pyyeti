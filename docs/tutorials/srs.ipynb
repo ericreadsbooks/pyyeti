{
 "cells": [
  {
   "cell_type": "markdown",
   "metadata": {},
   "source": [
    "# SRS - the shock response spectrum\n",
    "\n",
    "This and other notebooks are available here: https://github.com/twmacro/pyyeti/tree/master/docs/tutorials."
   ]
  },
  {
   "cell_type": "markdown",
   "metadata": {},
   "source": [
    "First, do some imports:"
   ]
  },
  {
   "cell_type": "code",
   "execution_count": null,
   "metadata": {},
   "outputs": [],
   "source": [
    "import numpy as np\n",
    "import matplotlib.pyplot as plt\n",
    "from pyyeti import srs"
   ]
  },
  {
   "cell_type": "markdown",
   "metadata": {},
   "source": [
    "Some settings specifically for the jupyter notebook."
   ]
  },
  {
   "cell_type": "code",
   "execution_count": null,
   "metadata": {},
   "outputs": [],
   "source": [
    "%matplotlib inline\n",
    "plt.rcParams['figure.figsize'] = [6.4, 4.8]\n",
    "plt.rcParams['figure.dpi'] = 150."
   ]
  },
  {
   "cell_type": "markdown",
   "metadata": {},
   "source": [
    "#### Compute an SRS of a half cycle square wave input\n",
    "The [SRS](../modules/generated/pyyeti.srs.srs.html#pyyeti.srs.srs) routine has many options, most of which are set to sensible defaults. For this demo, we'll mostly use the defaults. Note that parallel processing is on by default for non-Windows systems; on Windows, the default is to not use parallel processing because it only seems to slow things down -- I'm not certain why. Consult the documentation to learn more about the options available for computing SRS's."
   ]
  },
  {
   "cell_type": "code",
   "execution_count": null,
   "metadata": {},
   "outputs": [],
   "source": [
    "sig = np.zeros(1000)\n",
    "sig[10:200] = 1.\n",
    "sr = 1000.\n",
    "freq = np.arange(.1, 100, .1)\n",
    "Q = 25\n",
    "sh = srs.srs(sig, sr, freq, Q)"
   ]
  },
  {
   "cell_type": "markdown",
   "metadata": {},
   "source": [
    "Plot time signal and resulting SRS:"
   ]
  },
  {
   "cell_type": "code",
   "execution_count": null,
   "metadata": {},
   "outputs": [],
   "source": [
    "t = np.arange(len(sig))/sr\n",
    "\n",
    "plt.subplot(211)\n",
    "plt.plot(t, sig)\n",
    "plt.ylim(0, 1.2)\n",
    "plt.title('Signal')\n",
    "plt.xlabel('Time (s)')\n",
    "plt.ylabel('Base Acceleration (g)')\n",
    "plt.grid(True)\n",
    "\n",
    "plt.subplot(212)\n",
    "plt.plot(freq, sh)\n",
    "plt.title('SRS Q={:g}'.format(Q))\n",
    "plt.xlabel('Frequency (Hz)')\n",
    "plt.ylabel('Absolute Acceleration (g)')\n",
    "plt.grid(True)\n",
    "plt.tight_layout()"
   ]
  },
  {
   "cell_type": "markdown",
   "metadata": {},
   "source": [
    "You can also get the response histories. This output is a dict with members: 't', 'hist', 'sr'. The 'hist' value is a 3D array to accomodate multiple input signals: ``(len(t) x nsignals x len(freq))``. The following plots a couple different frequencies for illustration:"
   ]
  },
  {
   "cell_type": "code",
   "execution_count": null,
   "metadata": {},
   "outputs": [],
   "source": [
    "sh, resp = srs.srs(sig, sr, freq, Q, getresp=1)\n",
    "resp['hist'].shape"
   ]
  },
  {
   "cell_type": "code",
   "execution_count": null,
   "metadata": {},
   "outputs": [],
   "source": [
    "for j in np.searchsorted(freq, [20., 60.]):\n",
    "    plt.plot(resp['t'], resp['hist'][:, 0, j],\n",
    "             label='{:g} Hz Oscillator'.format(freq[j]))\n",
    "plt.legend(loc='best')\n",
    "plt.xlabel('Time (s)')\n",
    "plt.ylabel('Acceleration (g)')\n",
    "plt.grid(True)"
   ]
  },
  {
   "cell_type": "markdown",
   "metadata": {},
   "source": [
    "---\n",
    "#### Compare the different roll-off methods.\n",
    "The recommendation is to use either the \"lanczos\" or \"fft\" methods."
   ]
  },
  {
   "cell_type": "code",
   "execution_count": null,
   "metadata": {},
   "outputs": [],
   "source": [
    "sr = 200\n",
    "t = np.arange(0, 5, 1/sr)\n",
    "sig = np.sin(2*np.pi*15*t) + 3*np.sin(2*np.pi*85*t)\n",
    "Q = 50\n",
    "frq = np.linspace(5, 100, 476)\n",
    "for meth in ['none', 'linear', 'prefilter', 'lanczos', 'fft']:\n",
    "    sh = srs.srs(sig, sr, frq, Q, rolloff=meth)\n",
    "    plt.plot(frq, sh, label=meth)\n",
    "plt.legend(loc='best')\n",
    "ttl = '85 Hz peak should approach 150'\n",
    "plt.title(ttl)\n",
    "plt.xlabel('Frequency (Hz)')\n",
    "plt.grid(True)"
   ]
  },
  {
   "cell_type": "markdown",
   "metadata": {},
   "source": [
    "**Warning:** if your points-per-cycle (`ppc`) value is too low, the rolloff method will be irrelevant. The exception to this rule is that the \"prefilter\" method does not depend on `ppc`. To demonstrate, the following example sets the `ppc` value to 2:"
   ]
  },
  {
   "cell_type": "code",
   "execution_count": null,
   "metadata": {},
   "outputs": [],
   "source": [
    "for meth in ['none', 'linear', 'prefilter', 'lanczos', 'fft']:\n",
    "    sh = srs.srs(sig, sr, frq, Q, rolloff=meth, ppc=2)\n",
    "    plt.plot(frq, sh, label=meth)\n",
    "plt.legend(loc='best')\n",
    "ttl = '85 Hz peak should approach 150'\n",
    "plt.title(ttl)\n",
    "plt.xlabel('Frequency (Hz)')\n",
    "plt.grid(True)"
   ]
  }
 ],
 "metadata": {
  "anaconda-cloud": {},
  "kernelspec": {
   "display_name": "Python 3 (ipykernel)",
   "language": "python",
   "name": "python3"
  },
  "language_info": {
   "codemirror_mode": {
    "name": "ipython",
    "version": 3
   },
   "file_extension": ".py",
   "mimetype": "text/x-python",
   "name": "python",
   "nbconvert_exporter": "python",
   "pygments_lexer": "ipython3",
   "version": "3.10.4"
  }
 },
 "nbformat": 4,
 "nbformat_minor": 1
}
