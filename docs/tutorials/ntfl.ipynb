{
 "cells": [
  {
   "cell_type": "markdown",
   "metadata": {},
   "source": [
    "# Coupling models together using the Norton-Thevenin method\n",
    "\n",
    "## Using the `frclim.ntfl` routine to compute coupled system response\n",
    "\n",
    "This and other jupyter notebooks are available here: https://github.com/twmacro/pyyeti/tree/master/docs/tutorials."
   ]
  },
  {
   "cell_type": "markdown",
   "metadata": {},
   "source": [
    "The goal of this tutorial is to show that the Norton-Thevenin (NT) method of coupling a \"Source\" model and a \"Load\" model together and computing the system response can be equivalent to coupling the models together the \"old fashioned\" way and computing the system response. The old fashioned way is what is done in a standard Nastran superelement run; that is, it forms coupled system mass, damping, and stiffness matrices by enforcing boundary compatibility, computes system modes (typically), and solves the equations of motion. A typical Coupled Loads Analysis (CLA) couples models together in this fashion.\n",
    "\n",
    "The NT approach also enforces boundary compatibility and computes coupled system response, but does not form system matrices or compute system modes. Instead, it uses the \"apparent masses\" of the Source and the Load and the \"free acceleration\" of the Source to compute the system level responses. The NT coupling equations and their derivation are shown here: [pyyeti.frclim.ntfl](../modules/generated/pyyeti.frclim.ntfl.html#pyyeti.frclim.ntfl) (see equations 4 & 5). Note that the NT method is naturally a frequency domain method and, for simplicity, this tutorial will compute only frequency domain responses. Also, these models have a **statically-indeterminate** interface, showing that the method is general.\n",
    "\n",
    "To demonstrate that the NT approach can equal CLA approach for a frequency domain analysis, we'll pick two models already available in the pyYeti package. The \"inboard\" model will be the Source, and the \"outboard\" model will be the Load. These happen to both be Hurty-Craig-Bampton (HCB) models, but that is not necessary for applying the NT method.\n",
    "\n",
    "*Note:*\n",
    "\n",
    ">No matter which format the models are in, be sure to include the complete flexibility relative to the boundary in both the Source and Load models when applying the NT method. For free-free models, including the residual vectors relative to the boundary degrees of freedom (DOF) (via RVDOF in Nastran, for example) is a great way to include this flexibility. HCB models will normally contain this required flexibility automatically in the normal and constraint modes. While that is likey the case with our models, for the demonstration here, we will simply consider them to be \"exact\" and will make no effort to ensure they accurately represent the original FEM models.\n",
    "\n",
    "Steps:\n",
    "\n",
    "  1. Load models\n",
    "  2. Set up a frequency domain forcing function\n",
    "  3. Couple the models together the old fashioned way\n",
    "     1. Compute system responses the old fashioned way\n",
    "  4. Couple the models together via the NT approach\n",
    "     1. Compute apparent masses and free acceleration\n",
    "     2. Compute system responses via the NT method\n",
    "  5. Compare results\n",
    "\n"
   ]
  },
  {
   "cell_type": "markdown",
   "metadata": {},
   "source": [
    "For this example, we'll use a simple space-station model that has been reduced into two separate Hurty-Craig-Bampton models: an \"inboard\" model and an \"outboard\" model. These model attach at nodes 3, 11, 19, and 27.\n",
    "\n",
    "Notes:\n",
    "\n",
    "* These model use units of kg, mm, s\n",
    "* They are very light-weight trusses:\n",
    "   * Mass of inboard model = 1.755 kg\n",
    "   * Mass of outboard model = 1.590 kg\n"
   ]
  },
  {
   "cell_type": "markdown",
   "metadata": {},
   "source": [
    "The inboard model (the Source):\n",
    "\n",
    ".. image:: inboard.png\n",
    "<img src=\"./inboard.png\" />\n",
    "\n",
    "The outboard model (the Load):\n",
    "\n",
    ".. image:: outboard.png\n",
    "<img src=\"./outboard.png\" />"
   ]
  },
  {
   "cell_type": "markdown",
   "metadata": {},
   "source": [
    "---\n",
    "First, do some imports:"
   ]
  },
  {
   "cell_type": "code",
   "execution_count": null,
   "metadata": {},
   "outputs": [],
   "source": [
    "import inspect\n",
    "from pathlib import Path\n",
    "from io import StringIO\n",
    "import numpy as np\n",
    "from scipy import linalg as la\n",
    "import matplotlib.pyplot as plt\n",
    "import pandas as pd\n",
    "from pyyeti import cb, frclim, ode, ytools\n",
    "from pyyeti.nastran import bulk, op4, n2p\n",
    "from pyyeti.pp import PP"
   ]
  },
  {
   "cell_type": "markdown",
   "metadata": {},
   "source": [
    "Some settings specifically for the jupyter notebook:"
   ]
  },
  {
   "cell_type": "code",
   "execution_count": null,
   "metadata": {},
   "outputs": [],
   "source": [
    "%matplotlib inline\n",
    "plt.rcParams['figure.figsize'] = [6.4, 4.8]\n",
    "plt.rcParams['figure.dpi'] = 150."
   ]
  },
  {
   "cell_type": "markdown",
   "metadata": {},
   "source": [
    "Need path to data files:"
   ]
  },
  {
   "cell_type": "code",
   "execution_count": null,
   "metadata": {},
   "outputs": [],
   "source": [
    "srcdir = Path(inspect.getfile(frclim)).parent / \"tests\" / \"nas2cam_extseout\""
   ]
  },
  {
   "cell_type": "markdown",
   "metadata": {},
   "source": [
    "#### Load model data\n",
    "\n",
    "Also add 2% critical modal damping for both models:"
   ]
  },
  {
   "cell_type": "code",
   "execution_count": null,
   "metadata": {},
   "outputs": [],
   "source": [
    "zeta = 0.02\n",
    "ids = (\"out\", \"in\")\n",
    "uset, cords, b = {}, {}, {}\n",
    "mats = {}\n",
    "for id in ids:\n",
    "    uset[id], cords[id], b[id] = bulk.asm2uset(srcdir / f\"{id}board.asm\")\n",
    "    mats[id] = op4.read(srcdir / f\"{id}board.op4\")\n",
    "\n",
    "    # add damping:\n",
    "    bxx = 0 * mats[id][\"kxx\"]\n",
    "    q = ~b[id]\n",
    "    lam = np.diag(mats[id][\"kxx\"])[q]\n",
    "    damp = 2 * np.sqrt(lam) * zeta\n",
    "    bxx[q, q] = damp\n",
    "    mats[id][\"bxx\"] = bxx\n",
    "    \n",
    "PP(mats, 2);"
   ]
  },
  {
   "cell_type": "markdown",
   "metadata": {},
   "source": [
    "For convenience and ease of reading, create some shorter names for the mass, damping, and stiffness matrices:"
   ]
  },
  {
   "cell_type": "code",
   "execution_count": null,
   "metadata": {},
   "outputs": [],
   "source": [
    "maa = {\n",
    "    \"in\": mats[\"in\"][\"mxx\"],\n",
    "    \"out\": mats[\"out\"][\"mxx\"],\n",
    "}\n",
    "kaa = {\n",
    "    \"in\": mats[\"in\"][\"kxx\"],\n",
    "    \"out\": mats[\"out\"][\"kxx\"],\n",
    "}\n",
    "baa = {\n",
    "    \"in\": mats[\"in\"][\"bxx\"],\n",
    "    \"out\": mats[\"out\"][\"bxx\"],\n",
    "}"
   ]
  },
  {
   "cell_type": "markdown",
   "metadata": {},
   "source": [
    "#### Model checks\n",
    "\n",
    "We'll use the [pyyeti.cb.cbcheck](../modules/generated/pyyeti.cb.cbcheck.html#pyyeti.cb.cbcheck) routine to run model checks on both models. (There is also a tutorial on running model checks [here](cbcheck.html)). For this notebook, the primary reason for running model checks was simply to get the modal effective mass tables since that data may be helpful in interpreting some of the plots below. However, [pyyeti.cb.cbcheck](../modules/generated/pyyeti.cb.cbcheck.html#pyyeti.cb.cbcheck) also turned out to be helpful in diagnosing an numerical issue with the inboard model; more on that in a moment. First, run the model checks and display the modal effective mass tables:"
   ]
  },
  {
   "cell_type": "code",
   "execution_count": null,
   "metadata": {},
   "outputs": [],
   "source": [
    "bset_in = b[\"in\"].nonzero()[0]\n",
    "bset_out = b[\"out\"].nonzero()[0]\n",
    "\n",
    "with StringIO() as f:\n",
    "    chk_in = cb.cbcheck(\n",
    "        f,  # \"cbcheck_in.txt\",\n",
    "        maa[\"in\"],\n",
    "        kaa[\"in\"],\n",
    "        bset_in,\n",
    "        bset_in[:6],\n",
    "        uset[\"in\"],\n",
    "        uref=[600, 150, 150],  # this is the center if the 4 i/f nodes\n",
    "        rb_norm=True,\n",
    "    )\n",
    "    str_chk_in = f.getvalue()\n",
    "\n",
    "with StringIO() as f:\n",
    "    chk_out = cb.cbcheck(\n",
    "        f,  # \"cbcheck_out.txt\",\n",
    "        maa[\"out\"],\n",
    "        kaa[\"out\"],\n",
    "        bset_out,\n",
    "        bset_out[:6],\n",
    "        uset[\"out\"],\n",
    "        uref=[600, 150, 150],\n",
    "        rb_norm=True,\n",
    "    )\n",
    "    str_chk_out = f.getvalue()"
   ]
  },
  {
   "cell_type": "markdown",
   "metadata": {},
   "source": [
    "Show the modal effective mass tables:"
   ]
  },
  {
   "cell_type": "code",
   "execution_count": null,
   "metadata": {},
   "outputs": [],
   "source": [
    "pd.options.display.float_format = '{:,.2f}'.format\n",
    "chk_in.effmass_percent"
   ]
  },
  {
   "cell_type": "code",
   "execution_count": null,
   "metadata": {},
   "outputs": [],
   "source": [
    "chk_out.effmass_percent"
   ]
  },
  {
   "cell_type": "markdown",
   "metadata": {},
   "source": [
    "A quick look at the first few lines of the output:"
   ]
  },
  {
   "cell_type": "code",
   "execution_count": null,
   "metadata": {},
   "outputs": [],
   "source": [
    "print(str_chk_in[:str_chk_in.index(\"\\n\\n\")])"
   ]
  },
  {
   "cell_type": "code",
   "execution_count": null,
   "metadata": {},
   "outputs": [],
   "source": [
    "print(str_chk_out[:str_chk_out.index(\"\\n\\n\")])"
   ]
  },
  {
   "cell_type": "markdown",
   "metadata": {},
   "source": [
    "The model checks showed that the inboard model mass and stiffness were not perfect: the mass was not positive-definite (but close), and the stiffness was not symmetric (but close). However, since they were close, all the model checks ran fine and show that the model is good. Why did the matrices come out this way? That's how Nastran wrote them and they are fine as far as Nastran is concerned. These Python routines however look for a higher degree of precision. (It's possible that converting units from millimeters to meters may avoid this issue by providing better relative scaling but, at the time of this writing, that has not been tried.)\n",
    "\n",
    "Because of the numerical imperfections, we'll get a warning below from the [pyyeti.frclim.calcAM](../modules/generated/pyyeti.frclim.calcAM.html#pyyeti.frclim.calcAM) routine about having trouble using the [pyyeti.ode.SolveUnc](../modules/generated/pyyeti.ode.SolveUnc.html#pyyeti.ode.SolveUnc) solver to compute the apparent mass. After issuing the warning, it will automatically switch to the [pyyeti.ode.FreqDirect](../modules/generated/pyyeti.ode.FreqDirect.html#pyyeti.ode.FreqDirect) solver to successfully compute the apparent mass. The reason that [pyyeti.cb.cbcheck](../modules/generated/pyyeti.cb.cbcheck.html#pyyeti.cb.cbcheck) succeeded in solving the eigenproblem while [pyyeti.ode.SolveUnc](../modules/generated/pyyeti.ode.SolveUnc.html#pyyeti.ode.SolveUnc) did not is simply because they use different eigen solvers: [pyyeti.cb.cbcheck](../modules/generated/pyyeti.cb.cbcheck.html#pyyeti.cb.cbcheck) uses [pyyeti.ytools.eig_si](../modules/generated/pyyeti.ytools.eig_si.html#pyyeti.ytools.eig_si), which has some leniency built-in, while [pyyeti.ode.SolveUnc](../modules/generated/pyyeti.ode.SolveUnc.html#pyyeti.ode.SolveUnc) uses [scipy.linalg.eigh](https://docs.scipy.org/doc/scipy/reference/generated/scipy.linalg.eigh.html), which is very strict.\n",
    "\n",
    "Since it's illuminating, we'll show how close the mass matrix is to positive-definite by making a tiny modification to it, similar to what [pyyeti.ytools.eig_si](../modules/generated/pyyeti.ytools.eig_si.html#pyyeti.ytools.eig_si) does. We'll increase the diagonal values by a tiny amount:"
   ]
  },
  {
   "cell_type": "code",
   "execution_count": null,
   "metadata": {},
   "outputs": [],
   "source": [
    "m = maa['in'].copy()\n",
    "print(f\"Before: {ytools.mattype(m, 'posdef') = }\")\n",
    "d = np.arange(m.shape[0])\n",
    "m[d, d] *= 1.000000000000001\n",
    "print(f\"After: {ytools.mattype(m, 'posdef') = }\")"
   ]
  },
  {
   "cell_type": "markdown",
   "metadata": {},
   "source": [
    "#### Define the forcing function\n",
    "\n",
    "We'll use the first TLOAD vector of \"inboard\" to apply a force to the coupled system. This load vector applies forces to nodes 13 & 21. For simplicity, we'll keep the forces constant across the frequency range.\n",
    "\n",
    "The analysis will cover the frequency range 0.01 to 100.0 Hz on a logarithmic scale."
   ]
  },
  {
   "cell_type": "code",
   "execution_count": null,
   "metadata": {},
   "outputs": [],
   "source": [
    "freq = np.geomspace(0.01, 100.0, 4 * 167 + 1)\n",
    "\n",
    "# use first TLOAD vector and expand it:\n",
    "force_in = mats[\"in\"][\"px\"][:, :1] @ np.ones((1, len(freq)))\n",
    "force_in.shape"
   ]
  },
  {
   "cell_type": "markdown",
   "metadata": {},
   "source": [
    "Take a quick look at the inboard applied forces:"
   ]
  },
  {
   "cell_type": "code",
   "execution_count": null,
   "metadata": {},
   "outputs": [],
   "source": [
    "np.set_printoptions(precision=3, linewidth=130, suppress=True)\n",
    "force_in[:, :5]"
   ]
  },
  {
   "cell_type": "markdown",
   "metadata": {},
   "source": [
    "#### Couple models together the old fashioned way:\n",
    "\n",
    "We'll define a matrix 'S' that will enforce boundary compatibility. It defines the relationship from the DOF chosen to be the independent set ($p_{ind}$) to all the DOF ($p_{all}$):\n",
    "\n",
    "$$p_{all} = \\mathbf{S} \\cdot p_{ind}$$\n",
    "\n",
    "$$\\left \\{ \\begin{array}{c} in_b \\\\ in_q \\\\ out_b \\\\ out_q \\end{array} \\right \\}\n",
    "= \\mathbf{S} \\left \\{ \\begin{array}{c} in_b \\\\ in_q \\\\ out_q \\end{array} \\right \\}$$\n",
    "\n",
    "Since $out_b = in_b$:\n",
    "\n",
    "$$\\left \\{ \\begin{array}{c} in_b \\\\ in_q \\\\ out_b \\\\ out_q \\end{array} \\right \\}\n",
    "= \\left [ \\begin{array}{ccc}\n",
    "I & 0 & 0 \\\\\n",
    "0 & I & 0 \\\\\n",
    "I & 0 & 0 \\\\\n",
    "0 & 0 & I \\\\\n",
    "\\end{array} \\right ]\n",
    "\\left \\{ \\begin{array}{c} in_b \\\\ in_q \\\\ out_q \\end{array} \\right \\}$$\n",
    "\n",
    "The following code takes advantage of the fact that the b-set is ordered first for both models."
   ]
  },
  {
   "cell_type": "code",
   "execution_count": null,
   "metadata": {},
   "outputs": [],
   "source": [
    "m = maa[\"in\"].shape[0]\n",
    "n = maa[\"out\"].shape[0]\n",
    "nb = np.count_nonzero(b[\"in\"])\n",
    "S = {}\n",
    "S[\"in\"] = np.block(\n",
    "    [\n",
    "        [np.eye(nb), np.zeros((nb, m + n - 2 * nb))],\n",
    "        [np.zeros((m - nb, nb)), np.eye(m - nb), np.zeros((m - nb, n - nb))],\n",
    "    ]\n",
    ")\n",
    "S[\"out\"] = np.block(\n",
    "    [\n",
    "        [np.eye(nb), np.zeros((nb, m + n - 2 * nb))],\n",
    "        [np.zeros((n - nb, m)), np.eye(n - nb)],\n",
    "    ]\n",
    ")\n",
    "S[\"tot\"] = np.vstack((S[\"in\"], S[\"out\"]))"
   ]
  },
  {
   "cell_type": "markdown",
   "metadata": {},
   "source": [
    "Apply the S matrix to couple the models together:"
   ]
  },
  {
   "cell_type": "code",
   "execution_count": null,
   "metadata": {},
   "outputs": [],
   "source": [
    "mc = S[\"tot\"].T @ la.block_diag(maa[\"in\"], maa[\"out\"]) @ S[\"tot\"]\n",
    "kc = S[\"tot\"].T @ la.block_diag(kaa[\"in\"], kaa[\"out\"]) @ S[\"tot\"]\n",
    "bc = S[\"tot\"].T @ la.block_diag(baa[\"in\"], baa[\"out\"]) @ S[\"tot\"]"
   ]
  },
  {
   "cell_type": "markdown",
   "metadata": {},
   "source": [
    "As a check, compare coupled model frequencies to Nastran:"
   ]
  },
  {
   "cell_type": "code",
   "execution_count": null,
   "metadata": {},
   "outputs": [],
   "source": [
    "lam, phi = la.eigh(kc, mc)\n",
    "freqsys = np.sqrt(abs(lam)) / 2 / np.pi\n",
    "eigen = bulk.rdeigen(srcdir / \"assemble.out\")\n",
    "np.allclose(freqsys[6:], eigen[0][\"cycles\"][6:])"
   ]
  },
  {
   "cell_type": "markdown",
   "metadata": {},
   "source": [
    "##### Solve the equations of motion the old fashioned way\n",
    "\n",
    "We'll solve the equations of motion using [pyyeti.ode.SolveUnc](../modules/generated/pyyeti.ode.SolveUnc.html#pyyeti.ode.SolveUnc) and recover responses for both components. Note that upstream data recovery could be done easily with the \"mug1\", \"mef1\" and \"mes1\" matrices loaded from the op4 files above."
   ]
  },
  {
   "cell_type": "code",
   "execution_count": null,
   "metadata": {},
   "outputs": [],
   "source": [
    "fs = ode.SolveUnc(mc, bc, kc, pre_eig=True)\n",
    "force = S[\"in\"].T @ force_in\n",
    "sol = fs.fsolve(force, freq, incrb=\"avd\")  # keep all rb responses for demo\n",
    "\n",
    "# recover displacements, velocities, and accelerations for both components:\n",
    "d, v, a = {}, {}, {}\n",
    "ifforce = {}\n",
    "for id in ids:\n",
    "    d[id] = S[id] @ sol.d\n",
    "    v[id] = S[id] @ sol.v\n",
    "    a[id] = S[id] @ sol.a\n",
    "\n",
    "    ifforce[id] = (maa[id] @ a[id] + baa[id] @ v[id] + kaa[id] @ d[id])[:nb]"
   ]
  },
  {
   "cell_type": "markdown",
   "metadata": {},
   "source": [
    "Do some sanity checks on the results. The boundary accelerations, velocities, and displacements should match, and the boundary forces from one component on the other should be equal and opposite."
   ]
  },
  {
   "cell_type": "code",
   "execution_count": null,
   "metadata": {},
   "outputs": [],
   "source": [
    "print(f'{np.allclose(a[\"in\"][:nb], a[\"out\"][:nb]) = }')\n",
    "print(f'{np.allclose(v[\"in\"][:nb], v[\"out\"][:nb]) = }')\n",
    "print(f'{np.allclose(d[\"in\"][:nb], d[\"out\"][:nb]) = }')\n",
    "\n",
    "print()\n",
    "print(f'{np.allclose(-ifforce[\"out\"], ifforce[\"in\"] - force[:nb]) = }')\n",
    "print(f'{abs(ifforce[\"out\"] + (ifforce[\"in\"] - force[:nb])).max() = }')\n",
    "\n",
    "pv = freq >= 1.0\n",
    "print()\n",
    "print(f'For freq >= 1.0:\\n\\t{np.allclose(-ifforce[\"out\"][:, pv], ifforce[\"in\"][:, pv] - force[:nb, pv]) = }')"
   ]
  },
  {
   "cell_type": "markdown",
   "metadata": {},
   "source": [
    "*Note:*\n",
    "\n",
    ">In the lowest frequencies, we lose some numerical precision on the boundary forces if we set ``incrb = \"avd\"`` in the call to [fsolve](../modules/generated/pyyeti.ode.SolveUnc.fsolve.html#pyyeti.ode.SolveUnc.fsolve) above (the default). That's because the rigid-body displacements will grow to infinity as frequency approaches zero. This is shown in the next plot; both linear and log scales are shown for the x-axis scales because it is interesting and informative. We'll explore a similar phenomenon a little more later in the NT context. For now, we'll note that the forces are still very close and that above 1.0 Hz, even with ``incrb = \"avd\"``, the `np.allclose` check passes."
   ]
  },
  {
   "cell_type": "code",
   "execution_count": null,
   "metadata": {},
   "outputs": [],
   "source": [
    "fig = plt.figure(\"RB Modal Displacements\", clear=True, layout=\"constrained\", figsize=(10, 3))\n",
    "axes = fig.subplots(1, 2, sharey=True)\n",
    "axes[0].semilogy(freq, abs(d['out'][:6].T))\n",
    "axes[1].loglog(freq, abs(d['out'][:6].T))\n",
    "axes[0].set_xlabel(\"Frequency (Hz)\")\n",
    "axes[1].set_xlabel(\"Frequency (Hz)\")\n",
    "axes[0].set_ylabel(\"RB Modal Displacements (distance)\");"
   ]
  },
  {
   "cell_type": "markdown",
   "metadata": {},
   "source": [
    "Repeat the above, but with ``incrb = \"av\"`` in the call to [fsolve](../modules/generated/pyyeti.ode.SolveUnc.fsolve.html#pyyeti.ode.SolveUnc.fsolve):"
   ]
  },
  {
   "cell_type": "code",
   "execution_count": null,
   "metadata": {},
   "outputs": [],
   "source": [
    "fs = ode.SolveUnc(mc, bc, kc, pre_eig=True)\n",
    "force = S[\"in\"].T @ force_in\n",
    "sol = fs.fsolve(force, freq, incrb=\"av\")  # zero out the rb displacements\n",
    "\n",
    "# recover displacements, velocities, and accelerations for both components:\n",
    "d, v, a = {}, {}, {}\n",
    "ifforce = {}\n",
    "for id in ids:\n",
    "    d[id] = S[id] @ sol.d\n",
    "    v[id] = S[id] @ sol.v\n",
    "    a[id] = S[id] @ sol.a\n",
    "\n",
    "    ifforce[id] = (maa[id] @ a[id] + baa[id] @ v[id] + kaa[id] @ d[id])[:nb]\n",
    "\n",
    "print(f'{np.allclose(-ifforce[\"out\"], ifforce[\"in\"] - force[:nb]) = }')\n",
    "print(f'{abs(ifforce[\"out\"] + (ifforce[\"in\"] - force[:nb])).max() = }')\n",
    "\n",
    "fig = plt.figure(\"RB Modal Displacements\", clear=True, layout=\"constrained\", figsize=(10, 3))\n",
    "axes = fig.subplots(1, 2, sharey=True)\n",
    "axes[0].semilogy(freq, abs(d['out'][:6].T))\n",
    "axes[1].loglog(freq, abs(d['out'][:6].T))\n",
    "axes[0].set_xlabel(\"Frequency (Hz)\")\n",
    "axes[1].set_xlabel(\"Frequency (Hz)\")\n",
    "axes[0].set_ylabel(\"RB Modal Displacements (distance)\");"
   ]
  },
  {
   "cell_type": "markdown",
   "metadata": {},
   "source": [
    "#### Use the NT approach to couple models together\n",
    "\n",
    "First, we'll compute the \"free acceleration\" $A_s$:"
   ]
  },
  {
   "cell_type": "code",
   "execution_count": null,
   "metadata": {},
   "outputs": [],
   "source": [
    "fs_in = ode.FreqDirect(maa[\"in\"], baa[\"in\"], kaa[\"in\"])\n",
    "As = fs_in.fsolve(force_in, freq).a[:nb]"
   ]
  },
  {
   "cell_type": "markdown",
   "metadata": {},
   "source": [
    "Next, we'll compute the apparent masses and call [pyyeti.frclim.ntfl](../modules/generated/pyyeti.frclim.ntfl.html#pyyeti.frclim.ntfl) to compute coupled system responses.\n",
    "\n",
    "For illustration and as a check on the routine, we'll use both methods within [pyyeti.frclim.calcAM](../modules/generated/pyyeti.frclim.calcAM.html#pyyeti.frclim.calcAM) to compute the apparent masses. Those two methods are labeled as `cbtf` and `fsolve` here; for more information, see [pyyeti.frclim.calcAM](../modules/generated/pyyeti.frclim.calcAM.html#pyyeti.frclim.calcAM).\n",
    "\n",
    "Note that we'll get a warning from [pyyeti.frclim.calcAM](../modules/generated/pyyeti.frclim.calcAM.html#pyyeti.frclim.calcAM) about switching to the [pyyeti.ode.FreqDirect](../modules/generated/pyyeti.ode.FreqDirect.html#pyyeti.ode.FreqDirect) solver. See above for more discussion on this."
   ]
  },
  {
   "cell_type": "code",
   "execution_count": null,
   "metadata": {},
   "outputs": [],
   "source": [
    "AM = {}\n",
    "NT = {}\n",
    "for method in (\"cbtf\", \"fsolve\"):\n",
    "    AM[method] = {}\n",
    "    for id in ids:\n",
    "        if method == \"cbtf\":\n",
    "            drm = np.arange(nb)\n",
    "        else:\n",
    "            drm = np.zeros((nb, maa[id].shape[0]))\n",
    "            drm[:, b[id]] = np.eye(nb)\n",
    "        AM[method][id] = frclim.calcAM([maa[id], baa[id], kaa[id], drm], freq)\n",
    "\n",
    "    NT[method] = frclim.ntfl(AM[method][\"in\"], AM[method][\"out\"], As, freq)"
   ]
  },
  {
   "cell_type": "markdown",
   "metadata": {},
   "source": [
    "Perform some sanity checks and comparisons against the \"CLA\" (old fashioned) approach. Again, we see some loss of numerical precision at the lowest frequencies as we noted above for the CLA approach when we used ``incrb=\"dav\"``. We'll discuss this below."
   ]
  },
  {
   "cell_type": "code",
   "execution_count": null,
   "metadata": {},
   "outputs": [],
   "source": [
    "for method in NT:\n",
    "    print()\n",
    "    print(method)\n",
    "    print(f'\\t{np.allclose(ifforce[\"out\"][:, pv], NT[method].F[:, pv]) = }')\n",
    "    print(f'\\t{np.allclose(a[\"out\"][:nb, pv], NT[method].A[:, pv]) = }')\n",
    "    print(f'\\t{abs(ifforce[\"out\"] - NT[method].F).max() = }')\n",
    "    print(f'\\t{abs(a[\"out\"][:nb] - NT[method].A).max() = }')"
   ]
  },
  {
   "cell_type": "markdown",
   "metadata": {},
   "source": [
    "As noted above, we lose some numerical precision in the lowest frequencies. In the NT approach, this appears to be due to very large apparent mass values. To illustrate, here are the apparent mass curves for both approaches for the `x` DOF of the first boundary node for the Source model.\n",
    "\n",
    "It's plotted on two different scales because it's interesting and informative."
   ]
  },
  {
   "cell_type": "code",
   "execution_count": null,
   "metadata": {},
   "outputs": [],
   "source": [
    "fig = plt.figure(\"AM\", clear=True, layout=\"constrained\", figsize=(10, 3))\n",
    "axes = fig.subplots(1, 2, sharey=True)\n",
    "for method in AM:\n",
    "    axes[0].semilogy(freq, abs(AM[method][\"in\"][0, :, 0]), label=method)\n",
    "    axes[1].loglog(freq, abs(AM[method][\"in\"][0, :, 0]), label=method)\n",
    "axes[0].legend()\n",
    "axes[1].legend()\n",
    "axes[0].set_xlabel(\"Frequency (Hz)\")\n",
    "axes[1].set_xlabel(\"Frequency (Hz)\")\n",
    "axes[0].set_ylabel(\"X Apparent Mass (mass)\");"
   ]
  },
  {
   "cell_type": "markdown",
   "metadata": {},
   "source": [
    "Similarly, for the Load model:"
   ]
  },
  {
   "cell_type": "code",
   "execution_count": null,
   "metadata": {},
   "outputs": [],
   "source": [
    "fig = plt.figure(\"AM\", clear=True, layout=\"constrained\", figsize=(10, 3))\n",
    "axes = fig.subplots(1, 2, sharey=True)\n",
    "for method in AM:\n",
    "    axes[0].semilogy(freq, abs(AM[method][\"out\"][0, :, 0]), label=method)\n",
    "    axes[1].loglog(freq, abs(AM[method][\"out\"][0, :, 0]), label=method)\n",
    "axes[0].legend()\n",
    "axes[1].legend()\n",
    "axes[0].set_xlabel(\"Frequency (Hz)\")\n",
    "axes[1].set_xlabel(\"Frequency (Hz)\")\n",
    "axes[0].set_ylabel(\"X Apparent Mass (mass)\");"
   ]
  },
  {
   "cell_type": "markdown",
   "metadata": {},
   "source": [
    "One way to think about the apparent mass is that it is the set of forces required to enforce a unit acceleration on one boundary DOF while restraining all other boundary DOF. (That would be one column of the apparent mass matrix at a particular frequency.) In other words, in $f = m a$, if $a = \\mathbf{I}$, then the apparent mass $m$ is equal to the force $f$. As frequency approaches zero, the structure will respond statically to the slowly oscillating sinusoidal forces and the relation between the displacement and the force is:\n",
    "\n",
    "$$F \\approx K x$$\n",
    "\n",
    "Since $a = -\\omega^2 x$:\n",
    "\n",
    "$$F \\approx \\frac{1}{-\\omega^2} K a$$\n",
    "\n",
    "So, as frequency approaches zero, the apparent mass will increase proportionally to $1/\\omega^2$, which explains the straight line slope on the log-log plot (see also the next plot).\n",
    "\n",
    "Note that for statically-determinate interfaces, the apparent mass simply approaches the rigid-body mass as frequency approaches 0.0 Hz since the system will move as a rigid-body.\n",
    "\n",
    "However, even down to 0.01 Hz, the results for the NT approaches are still quite close, and above 1.0 Hz, all the `np.allclose` checks return True.\n",
    "\n",
    "For illustration, here is a plot showing the slope of the apparent mass is indeed proportional to $1/\\omega^2$:"
   ]
  },
  {
   "cell_type": "code",
   "execution_count": null,
   "metadata": {},
   "outputs": [],
   "source": [
    "fig = plt.figure(figsize=(5, 3))\n",
    "axes = fig.subplots(1, 1)\n",
    "axes.semilogy(freq, abs(AM[\"cbtf\"][\"out\"][0, :, 0]), label=\"Apparent Mass\")\n",
    "axes.loglog(freq, 1/freq**2, label=\"1/freq**2\")\n",
    "axes.legend()\n",
    "axes.set_xlabel(\"Frequency (Hz)\")\n",
    "axes.set_ylabel(\"X Apparent Mass (mass)\");"
   ]
  },
  {
   "cell_type": "markdown",
   "metadata": {},
   "source": [
    "#### Plot interface forces and accelerations\n",
    "\n",
    "For illustration, we'll plot some of the interface forces and boundary accelerations. We can see that NT responses are the same as the CLA responses."
   ]
  },
  {
   "cell_type": "markdown",
   "metadata": {},
   "source": [
    "First, compare the interface forces for the 4th boundary node (as an example):"
   ]
  },
  {
   "cell_type": "code",
   "execution_count": null,
   "metadata": {},
   "outputs": [],
   "source": [
    "fig = plt.figure(\"ifforce\", clear=True, layout=\"constrained\", figsize=(8, 11))\n",
    "frcaxes = fig.subplots(6, 1, sharex=True)\n",
    "\n",
    "ylabels = [\"$F_X$\", \"$F_Y$\", \"$F_Z$\", \"$M_X$\", \"$M_Y$\", \"$M_Z$\"]\n",
    "node = 4\n",
    "for j, ax in enumerate(frcaxes):\n",
    "    row = j + (node - 1) * 6\n",
    "    which = \"Force\" if ylabels[j].startswith(\"$F\") else \"Moment\"\n",
    "    for method in NT:\n",
    "        ax.semilogy(\n",
    "            freq, abs(NT[method].F[row]), label=f\"NT[{method!r}] I/F {which}\"\n",
    "        )\n",
    "    ax.semilogy(freq, abs(ifforce[\"out\"][row]), \"--\", label=f\"CLA I/F {which}\")\n",
    "    ax.legend()\n",
    "    ax.set_ylabel(ylabels[j])\n",
    "\n",
    "frcaxes[0].set_title(f\"Magnitude of I/F Force on 'Outboard', Boundary Node #{node}\")\n",
    "frcaxes[-1].set_xlabel(\"Frequency (Hz)\");"
   ]
  },
  {
   "cell_type": "markdown",
   "metadata": {},
   "source": [
    "Next, compare the interface accelerations for the 4th boundary node. For reference, the free acceleration for this node is also plotted:"
   ]
  },
  {
   "cell_type": "code",
   "execution_count": null,
   "metadata": {},
   "outputs": [],
   "source": [
    "fig = plt.figure(\"ifacce\", clear=True, layout=\"constrained\", figsize=(8, 11))\n",
    "acceaxes = fig.subplots(6, 1, sharex=True)\n",
    "\n",
    "ylabels = [\"$A_{X}$\", \"$A_{Y}$\", \"$A_{Z}$\", \"$A_{RX}$\", \"$A_{RY}$\", \"$A_{RZ}$\"]\n",
    "for j, ax in enumerate(acceaxes):\n",
    "    row = j + (node - 1) * 6\n",
    "    for method in NT:\n",
    "        ax.semilogy(\n",
    "            freq, abs(NT[method].A[row]), label=f\"NT[{method!r}] Coupled Acce\"\n",
    "        )\n",
    "    ax.semilogy(freq, abs(a[\"out\"][row]), \"--\", label=\"CLA Coupled Acce\")\n",
    "    ax.semilogy(freq, abs(As[row]), label=\"Free Acce\")\n",
    "    ax.legend()\n",
    "    ax.set_ylabel(ylabels[j])\n",
    "\n",
    "acceaxes[0].set_title(f\"Magnitude of I/F Acceleration, Boundary Node #{node}\")\n",
    "acceaxes[-1].set_xlabel(\"Frequency (Hz)\");"
   ]
  },
  {
   "cell_type": "code",
   "execution_count": null,
   "metadata": {},
   "outputs": [],
   "source": []
  }
 ],
 "metadata": {
  "anaconda-cloud": {},
  "kernelspec": {
   "display_name": "Python 3 (ipykernel)",
   "language": "python",
   "name": "python3"
  },
  "language_info": {
   "codemirror_mode": {
    "name": "ipython",
    "version": 3
   },
   "file_extension": ".py",
   "mimetype": "text/x-python",
   "name": "python",
   "nbconvert_exporter": "python",
   "pygments_lexer": "ipython3",
   "version": "3.11.5"
  }
 },
 "nbformat": 4,
 "nbformat_minor": 1
}
