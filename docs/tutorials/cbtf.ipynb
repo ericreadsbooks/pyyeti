{
 "cells": [
  {
   "cell_type": "markdown",
   "metadata": {},
   "source": [
    "# Checking data recovery matrices: modal DOF (`cb.cbtf`)\n",
    "\n",
    "This and other notebooks are available here: https://github.com/twmacro/pyyeti/tree/master/docs/tutorials."
   ]
  },
  {
   "cell_type": "markdown",
   "metadata": {},
   "source": [
    "As with the [cbcheck tutorial](cbcheck.html), we'll use superelement 102. The data recovery matrices were formed in the test directory: \"tests/nastran_drm12\".\n",
    "\n",
    "The [cbtf](../modules/generated/pyyeti.cb.cbtf.html#pyyeti.cb.cbtf) routine aides in checking the modal DOF. This function performs a base-drive analysis and returns the boundary and modal responses. These are then used by the analyst to plot frequency response curves as a sanity check.\n",
    "\n",
    "Notes:\n",
    "\n",
    "* This model uses units of kg, mm, s\n",
    "* It's a very light-weight truss: mass = 1.755 kg\n",
    "\n",
    ".. image:: se102.png\n",
    "<img src=\"./se102.png\" />"
   ]
  },
  {
   "cell_type": "markdown",
   "metadata": {},
   "source": [
    "---\n",
    "First, do some imports:"
   ]
  },
  {
   "cell_type": "code",
   "execution_count": null,
   "metadata": {},
   "outputs": [],
   "source": [
    "import numpy as np\n",
    "import matplotlib.pyplot as plt\n",
    "from pyyeti import cb, nastran\n",
    "np.set_printoptions(precision=3, linewidth=130, suppress=True)"
   ]
  },
  {
   "cell_type": "markdown",
   "metadata": {},
   "source": [
    "Some settings specifically for the jupyter notebook."
   ]
  },
  {
   "cell_type": "code",
   "execution_count": null,
   "metadata": {},
   "outputs": [],
   "source": [
    "%matplotlib inline\n",
    "plt.rcParams['figure.figsize'] = [6.4, 4.8]\n",
    "plt.rcParams['figure.dpi'] = 150."
   ]
  },
  {
   "cell_type": "markdown",
   "metadata": {},
   "source": [
    "Need path to data files:"
   ]
  },
  {
   "cell_type": "code",
   "execution_count": null,
   "metadata": {},
   "outputs": [],
   "source": [
    "import os\n",
    "import inspect\n",
    "pth = os.path.dirname(inspect.getfile(cb))\n",
    "pth = os.path.join(pth, 'tests', 'nastran_drm12')"
   ]
  },
  {
   "cell_type": "markdown",
   "metadata": {},
   "source": [
    "#### Load data recovery matrices\n",
    "We'll use the function [procdrm12](file:../modules/nastran/generated/pyyeti.nastran.op2.procdrm12.html#pyyeti.nastran.op2.procdrm12) from the [nastran.op2](../modules/nastran/op2.html) module. (This gets imported into the `nastran` namespace automatically.)"
   ]
  },
  {
   "cell_type": "code",
   "execution_count": null,
   "metadata": {},
   "outputs": [],
   "source": [
    "otm = nastran.procdrm12(os.path.join(pth, 'drm12'))"
   ]
  },
  {
   "cell_type": "code",
   "execution_count": null,
   "metadata": {},
   "outputs": [],
   "source": [
    "sorted(otm.keys())"
   ]
  },
  {
   "cell_type": "markdown",
   "metadata": {},
   "source": [
    "#### Load the mass and stiffness from the \"nas2cam\" output\n",
    "\n",
    "Use the [op2.rdnas2cam](../modules/nastran/generated/pyyeti.nastran.op2.rdnas2cam.html#pyyeti.nastran.op2.rdnas2cam) routine (imported from [nastran.op2](../modules/nastran/op2.html)) to read data from the output of the \"nas2cam\" DMAP. This loads the data into a dict:"
   ]
  },
  {
   "cell_type": "code",
   "execution_count": null,
   "metadata": {},
   "outputs": [],
   "source": [
    "nas = nastran.rdnas2cam(os.path.join(pth, 'inboard_nas2cam'))\n",
    "nas.keys()"
   ]
  },
  {
   "cell_type": "code",
   "execution_count": null,
   "metadata": {},
   "outputs": [],
   "source": [
    "maa = nas['maa'][102]\n",
    "kaa = nas['kaa'][102]"
   ]
  },
  {
   "cell_type": "markdown",
   "metadata": {
    "collapsed": true
   },
   "source": [
    "#### Get the USET table for the b-set DOF"
   ]
  },
  {
   "cell_type": "code",
   "execution_count": null,
   "metadata": {},
   "outputs": [],
   "source": [
    "uset = nas['uset'][102]\n",
    "b = nastran.mksetpv(uset, 'p', 'b')\n",
    "usetb = uset[b]\n",
    "# show the coordinates (which are in basic):\n",
    "usetb.loc[(slice(None), 1), :]"
   ]
  },
  {
   "cell_type": "markdown",
   "metadata": {},
   "source": [
    "#### Form b-set partition vector into a-set\n",
    "In this case, we already know the b-set are first but, since we have the nas2cam output, we can use [n2p.mksetpv](../modules/nastran/generated/pyyeti.nastran.n2p.mksetpv.html#pyyeti.nastran.n2p.mksetpv) to be more general. We'll also get the q-set partition vector for later use."
   ]
  },
  {
   "cell_type": "code",
   "execution_count": null,
   "metadata": {},
   "outputs": [],
   "source": [
    "b = nastran.mksetpv(uset, 'a', 'b')\n",
    "q = ~b\n",
    "b = np.nonzero(b)[0]\n",
    "q = np.nonzero(q)[0]\n",
    "print('b =', b)\n",
    "print('q =', q)"
   ]
  },
  {
   "cell_type": "markdown",
   "metadata": {},
   "source": [
    "#### Form the damping matrix\n",
    "We'll use 2.5% critical damping."
   ]
  },
  {
   "cell_type": "code",
   "execution_count": null,
   "metadata": {},
   "outputs": [],
   "source": [
    "baa = 2*.025*np.sqrt(np.diag(kaa))\n",
    "baa[b] = 0\n",
    "baa = np.diag(baa)"
   ]
  },
  {
   "cell_type": "markdown",
   "metadata": {},
   "source": [
    "---\n",
    "#### Form rigid-body modes\n",
    "These are used to define the acceleration(s) of the boundary DOF. Each rigid-body mode defines a consistent acceleration field which is needed for a base-drive (which is really what [cbtf](../modules/generated/pyyeti.cb.cbtf.html#pyyeti.cb.cbtf) does).\n",
    "\n",
    "Note the the second boundary grid is in a different coordinate system."
   ]
  },
  {
   "cell_type": "code",
   "execution_count": null,
   "metadata": {},
   "outputs": [],
   "source": [
    "rbg = nastran.rbgeom_uset(usetb, [600, 150, 150])\n",
    "rbg"
   ]
  },
  {
   "cell_type": "markdown",
   "metadata": {},
   "source": [
    "Do a check of the mass:"
   ]
  },
  {
   "cell_type": "code",
   "execution_count": null,
   "metadata": {},
   "outputs": [],
   "source": [
    "bb = np.ix_(b, b)\n",
    "rbg.T @ maa[bb] @ rbg"
   ]
  },
  {
   "cell_type": "markdown",
   "metadata": {},
   "source": [
    "#### Define analysis frequency vector and run [cbtf](../modules/generated/pyyeti.cb.cbtf.html#pyyeti.cb.cbtf)\n",
    "The ``save`` option is useful for speeding up loops 2 to 6:"
   ]
  },
  {
   "cell_type": "code",
   "execution_count": null,
   "metadata": {},
   "outputs": [],
   "source": [
    "freq = np.arange(0.1, 200., .1)\n",
    "save = {}\n",
    "sol = {}\n",
    "for i in range(6):\n",
    "    sol[i] = cb.cbtf(maa, baa, kaa, rbg[:, i], freq, b, save)"
   ]
  },
  {
   "cell_type": "markdown",
   "metadata": {},
   "source": [
    "Each solution (eg, ``sol[0]``) has:\n",
    "\n",
    "* The boundary and modal accelerations, velocities and displacements (``.a, .v, .d``)\n",
    "* The boundary force (``.frc``)\n",
    "* The analysis frequency vector (``.freq``)"
   ]
  },
  {
   "cell_type": "code",
   "execution_count": null,
   "metadata": {},
   "outputs": [],
   "source": [
    "[i for i in dir(sol[0]) if i[0] != '_']"
   ]
  },
  {
   "cell_type": "markdown",
   "metadata": {},
   "source": [
    "Just to check the solution, we'll first look at the boundary responses. The acceleration should be the same as the input (0 or 1), and velocity & displacement should be large approaching zero, but approach zero as frequency increases. (They should equal 1 where $2\\pi f$ is 1, or $f \\approx 0.16$.) Off-axis values should be zero."
   ]
  },
  {
   "cell_type": "code",
   "execution_count": null,
   "metadata": {},
   "outputs": [],
   "source": [
    "h = plt.plot(freq, abs(sol[0].a[b]).T, 'b',\n",
    "             freq, abs(sol[0].v[b]).T, 'r',\n",
    "             freq, abs(sol[0].d[b]).T, 'g')\n",
    "plt.title('Boundary Responses')\n",
    "plt.legend(h[::len(b)], ('Acce', 'Velo', 'Disp'), loc='best')\n",
    "plt.ylim(-.1, 3)\n",
    "plt.xlim(0, 5)"
   ]
  },
  {
   "cell_type": "markdown",
   "metadata": {},
   "source": [
    "The modal part has dynamic content as we'll see next. Note: for the x-direction, the modes of interest are above 50 Hz. The other directions have modal content much lower in frequency."
   ]
  },
  {
   "cell_type": "code",
   "execution_count": null,
   "metadata": {},
   "outputs": [],
   "source": [
    "plt.figure(figsize=(8, 8))\n",
    "plt.subplot(311); plt.plot(freq, abs(sol[0].a[q]).T); plt.title('Modal Acce')\n",
    "plt.subplot(312); plt.plot(freq, abs(sol[0].v[q]).T); plt.title('Modal Velo')\n",
    "plt.subplot(313); plt.plot(freq, abs(sol[0].d[q]).T); plt.title('Modal Disp')\n",
    "plt.tight_layout()"
   ]
  },
  {
   "cell_type": "markdown",
   "metadata": {},
   "source": [
    "We can plot ``sol.frc`` to see the boundary forces needed to run the base-drive. Here, we'll use the rigid-body modes to sum the forces to the center point and plot that. The starting value for the x-direction should be 1.755 to match the mass."
   ]
  },
  {
   "cell_type": "code",
   "execution_count": null,
   "metadata": {},
   "outputs": [],
   "source": [
    "plt.plot(freq, abs(rbg.T @ sol[0].frc).T)\n",
    "plt.title('Boundary Forces');"
   ]
  },
  {
   "cell_type": "markdown",
   "metadata": {},
   "source": [
    "---\n",
    "Finally, let's get to checking the data recovery matrices.\n",
    "\n",
    "The first one we'll check is the ``SPCF`` recovery. Since that was defined to recovery the boundary forces, the components should match the b-set parts of the mass and stiffness. (Note that ``SPCFD`` loses some precision through the DMAP as compared to the original stiffness.)"
   ]
  },
  {
   "cell_type": "code",
   "execution_count": null,
   "metadata": {},
   "outputs": [],
   "source": [
    "assert np.allclose(otm['SPCFA'], maa[b])\n",
    "assert np.allclose(otm['SPCFD'], kaa[bb])"
   ]
  },
  {
   "cell_type": "markdown",
   "metadata": {},
   "source": [
    "For the ``ATM``, there should be some lines that start at 1.0. Other lines, should start at zero. These curves make sense."
   ]
  },
  {
   "cell_type": "code",
   "execution_count": null,
   "metadata": {},
   "outputs": [],
   "source": [
    "plt.semilogy(freq, abs(otm['ATM'] @ sol[0].a).T)\n",
    "plt.title('ATM')\n",
    "plt.ylim(.001, 10)"
   ]
  },
  {
   "cell_type": "markdown",
   "metadata": {},
   "source": [
    "The ``LTMA`` curves should all start with zero slope. ``LTMD`` curves should be numerically zero since rigid-body displacement should not cause any loads. These look reasonable."
   ]
  },
  {
   "cell_type": "code",
   "execution_count": null,
   "metadata": {},
   "outputs": [],
   "source": [
    "plt.subplot(211)\n",
    "plt.semilogy(freq, abs(otm['LTMA'] @ sol[0].a).T)\n",
    "plt.title('LTMA')\n",
    "plt.subplot(212)\n",
    "plt.semilogy(freq, abs(otm['LTMD'] @ sol[0].d[b]).T)\n",
    "plt.title('LTMD')\n",
    "plt.tight_layout()"
   ]
  },
  {
   "cell_type": "markdown",
   "metadata": {},
   "source": [
    "The ``DTMA`` curves should also start with zero slope, with values much less than 1.0. Some of the ``DTMD`` curves (the ones in the 'x' direction) should start at high values then quickly drop off as frequency increases."
   ]
  },
  {
   "cell_type": "code",
   "execution_count": null,
   "metadata": {},
   "outputs": [],
   "source": [
    "plt.subplot(211)\n",
    "plt.semilogy(freq, abs(otm['DTMA'] @ sol[0].a).T)\n",
    "plt.title('DTMA')\n",
    "plt.subplot(212)\n",
    "plt.semilogy(freq, abs(otm['DTMD'] @ sol[0].d[b]).T)\n",
    "plt.title('DTMD')\n",
    "plt.tight_layout()"
   ]
  },
  {
   "cell_type": "code",
   "execution_count": null,
   "metadata": {},
   "outputs": [],
   "source": []
  }
 ],
 "metadata": {
  "kernelspec": {
   "display_name": "Python 3 (ipykernel)",
   "language": "python",
   "name": "python3"
  },
  "language_info": {
   "codemirror_mode": {
    "name": "ipython",
    "version": 3
   },
   "file_extension": ".py",
   "mimetype": "text/x-python",
   "name": "python",
   "nbconvert_exporter": "python",
   "pygments_lexer": "ipython3",
   "version": "3.11.5"
  }
 },
 "nbformat": 4,
 "nbformat_minor": 1
}
