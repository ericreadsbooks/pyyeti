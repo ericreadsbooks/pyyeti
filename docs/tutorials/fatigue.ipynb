{
 "cells": [
  {
   "cell_type": "markdown",
   "metadata": {},
   "source": [
    "# Fatigue damage equivalent PSDs\n",
    "\n",
    "This and other notebooks are available here: https://github.com/twmacro/pyyeti/tree/master/docs/tutorials."
   ]
  },
  {
   "cell_type": "markdown",
   "metadata": {},
   "source": [
    "First, do some imports:"
   ]
  },
  {
   "cell_type": "code",
   "execution_count": null,
   "metadata": {},
   "outputs": [],
   "source": [
    "import numpy as np\n",
    "import matplotlib.pyplot as plt\n",
    "from pyyeti import psd, fdepsd\n",
    "import scipy.signal as signal"
   ]
  },
  {
   "cell_type": "markdown",
   "metadata": {},
   "source": [
    "Some settings specifically for the jupyter notebook."
   ]
  },
  {
   "cell_type": "code",
   "execution_count": null,
   "metadata": {},
   "outputs": [],
   "source": [
    "%matplotlib inline\n",
    "plt.rcParams['figure.figsize'] = [6.4, 4.8]\n",
    "plt.rcParams['figure.dpi'] = 150."
   ]
  },
  {
   "cell_type": "markdown",
   "metadata": {},
   "source": [
    "#### Generate a signal with flat content from 20 to 50 Hz"
   ]
  },
  {
   "cell_type": "code",
   "execution_count": null,
   "metadata": {},
   "outputs": [],
   "source": [
    "TF = 60  # make a 60 second signal\n",
    "spec = np.array([[20, 1], [50, 1]])\n",
    "sig, sr, t = psd.psd2time(spec, ppc=10, fstart=20,\n",
    "                          fstop=50, df=1/TF,\n",
    "                          winends=dict(portion=10),\n",
    "                          gettime=True)\n",
    "plt.plot(t, sig)\n",
    "plt.title(r'Input Signal - Specification Level = '\n",
    "           '1.0 $g^{2}$/Hz')\n",
    "plt.xlabel('Time (sec)')\n",
    "h = plt.ylabel('Acceleration (g)')"
   ]
  },
  {
   "cell_type": "markdown",
   "metadata": {},
   "source": [
    "---\n",
    "#### Compute fatigue damage equivalent PSDs using two different methods\n",
    "One will use absolute-acceleration and the other will use pseudo-velocity. The plots will compare the G1 and G8 outputs. The output of the [fdepsd](../modules/fdepsd.html) function is a SimpleNamespace with several items; the main output is in the ``.psd`` member which has G1, G2, G4, G8 and G12 as columns in an array."
   ]
  },
  {
   "cell_type": "code",
   "execution_count": null,
   "metadata": {},
   "outputs": [],
   "source": [
    "freq = np.arange(20., 50.1)\n",
    "Q = 10\n",
    "fde_acce = fdepsd.fdepsd(sig, sr, freq, Q)\n",
    "fde_pvelo = fdepsd.fdepsd(sig, sr, freq, Q, resp='pvelo')"
   ]
  },
  {
   "cell_type": "code",
   "execution_count": null,
   "metadata": {},
   "outputs": [],
   "source": [
    "plt.plot(freq, fde_acce.psd['G1'], label='G1, Accel-based')\n",
    "plt.plot(freq, fde_pvelo.psd['G1'], label='G1, PVelo-based')\n",
    "plt.plot(freq, fde_acce.psd['G8'], label='G8, Accel-based')\n",
    "plt.plot(freq, fde_pvelo.psd['G8'], label='G8, PVelo-based')\n",
    "plt.title('G1 and G8 PSD Comparison')\n",
    "plt.xlabel('Freq (Hz)')\n",
    "plt.ylabel(r'PSD ($g^{2}$/Hz)')\n",
    "h = plt.legend(loc='best')"
   ]
  },
  {
   "cell_type": "markdown",
   "metadata": {},
   "source": [
    "---\n",
    "#### Compute fatigue damage equivalent PSDs to compare with standard PSDs\n",
    "Form envelope over Q's of 10, 25, 50."
   ]
  },
  {
   "cell_type": "code",
   "execution_count": null,
   "metadata": {},
   "outputs": [],
   "source": [
    "psdenv = 0\n",
    "freq = np.arange(20., 50.1)\n",
    "for q in (10, 25, 50):\n",
    "    fde = fdepsd.fdepsd(sig, sr, freq, q)\n",
    "    psdenv = np.fmax(psdenv, fde.psd)"
   ]
  },
  {
   "cell_type": "markdown",
   "metadata": {},
   "source": [
    "#### Compute standard Welch periodogram and use [psd.psdmod](../modules/generated/pyyeti.psd.psdmod.html#pyyeti.psd.psdmod) for comparison"
   ]
  },
  {
   "cell_type": "code",
   "execution_count": null,
   "metadata": {},
   "outputs": [],
   "source": [
    "f, p = signal.welch(sig, sr, nperseg=sr)\n",
    "f2, p2 = psd.psdmod(sig, sr, nperseg=sr, timeslice=4, tsoverlap=0.5)"
   ]
  },
  {
   "cell_type": "markdown",
   "metadata": {},
   "source": [
    "#### Plot fatigue damage equivalents and the standard PSDs"
   ]
  },
  {
   "cell_type": "code",
   "execution_count": null,
   "metadata": {},
   "outputs": [],
   "source": [
    "spec = np.array(spec).T\n",
    "plt.plot(*spec, 'k--', lw=2.5, label='Spec')\n",
    "plt.plot(f, p, label='Welch PSD')\n",
    "plt.plot(f2, p2, label='PSDmod')\n",
    "psdenv.rename(\n",
    "    columns={i: i + ' Env'\n",
    "             for i in psdenv.columns}).plot.line(ax=plt.gca())\n",
    "plt.xlim(20, 50)\n",
    "plt.title('PSD Comparison')\n",
    "plt.xlabel('Freq (Hz)')\n",
    "plt.ylabel(r'PSD ($g^{2}$/Hz)')\n",
    "h = plt.legend(loc='upper left',\n",
    "               bbox_to_anchor=(1.02, 1.),\n",
    "               borderaxespad=0.)"
   ]
  },
  {
   "cell_type": "markdown",
   "metadata": {},
   "source": [
    "---\n",
    "#### Compare cycle count results for 30 Hz to theoretical\n",
    "This will be for Q = 50 since that was the last one run above."
   ]
  },
  {
   "cell_type": "code",
   "execution_count": null,
   "metadata": {},
   "outputs": [],
   "source": [
    "Frq = freq[np.searchsorted(freq, 30)]\n",
    "\n",
    "# First, plot counts vs. amplitude**2 from the data:\n",
    "plt.semilogy(fde.binamps.loc[Frq]**2,\n",
    "             fde.count.loc[Frq],\n",
    "             label='Data')\n",
    "\n",
    "# Compute theoretical curve: (use flight time here (TF),\n",
    "# not test time (T0))\n",
    "\n",
    "Amax2 = 2 * fde.var.loc[Frq] * np.log(Frq * TF)\n",
    "plt.plot([0, Amax2], [Frq * TF, 1], label='Theory')\n",
    "\n",
    "# Next, plot amp**2 vs total count for each PSD:\n",
    "y1 = fde.count.loc[Frq, 0]\n",
    "peakamp = fde.peakamp.loc[Frq]\n",
    "for j, lbl in enumerate(fde.peakamp.columns):\n",
    "    plt.plot([0, peakamp[j]**2], [y1, 1], label=lbl)\n",
    "plt.title('Bin Count Check for Q=50, Freq=30 Hz')\n",
    "plt.xlabel(r'$Amp^2$')\n",
    "plt.ylabel('Count')\n",
    "plt.grid(True)\n",
    "h = plt.legend(loc='best')"
   ]
  },
  {
   "cell_type": "code",
   "execution_count": null,
   "metadata": {},
   "outputs": [],
   "source": []
  }
 ],
 "metadata": {
  "anaconda-cloud": {},
  "kernelspec": {
   "display_name": "Python 3 (ipykernel)",
   "language": "python",
   "name": "python3"
  },
  "language_info": {
   "codemirror_mode": {
    "name": "ipython",
    "version": 3
   },
   "file_extension": ".py",
   "mimetype": "text/x-python",
   "name": "python",
   "nbconvert_exporter": "python",
   "pygments_lexer": "ipython3",
   "version": "3.10.4"
  }
 },
 "nbformat": 4,
 "nbformat_minor": 1
}
