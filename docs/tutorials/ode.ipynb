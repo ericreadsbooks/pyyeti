{
 "cells": [
  {
   "cell_type": "markdown",
   "metadata": {},
   "source": [
    "# ode - time and frequency domain ODE solvers\n",
    "\n",
    "This and other notebooks are available here: https://github.com/twmacro/pyyeti/tree/master/docs/tutorials."
   ]
  },
  {
   "cell_type": "markdown",
   "metadata": {},
   "source": [
    "Primarily, the [pyyeti.ode](../modules/ode.html) module provides tools for solving 2nd order matrix equations of motion in both the time and frequency domains. This notebook demonstrates solving time-domain equations of motion. \n",
    "\n",
    "Notes:\n",
    "\n",
    "* Some features depend on the equations being in modal space (particularly important where there are distinctions between the rigid-body modes and the elastic modes).\n",
    "* The time-domain solvers all depend on constant time step."
   ]
  },
  {
   "cell_type": "markdown",
   "metadata": {},
   "source": [
    "First, do some imports:"
   ]
  },
  {
   "cell_type": "code",
   "execution_count": null,
   "metadata": {},
   "outputs": [],
   "source": [
    "import numpy as np\n",
    "import matplotlib.pyplot as plt\n",
    "from pyyeti import ode"
   ]
  },
  {
   "cell_type": "markdown",
   "metadata": {},
   "source": [
    "Some settings specifically for the jupyter notebook."
   ]
  },
  {
   "cell_type": "code",
   "execution_count": null,
   "metadata": {},
   "outputs": [],
   "source": [
    "%matplotlib inline\n",
    "plt.rcParams['figure.figsize'] = [6.4, 4.8]\n",
    "plt.rcParams['figure.dpi'] = 150."
   ]
  },
  {
   "cell_type": "markdown",
   "metadata": {},
   "source": [
    "#### Setup a simple system\n",
    "This system is not fixed to ground so it does have a rigid-body mode. This system is from the [frclim.ntfl](../modules/generated/pyyeti.frclim.ntfl.html#pyyeti.frclim.ntfl) example."
   ]
  },
  {
   "cell_type": "raw",
   "metadata": {},
   "source": [
    "::\n",
    "\n",
    "                |--> x1       |--> x2        |--> x3        |--> x4\n",
    "                |             |              |              |\n",
    "             |----|    k1   |----|    k2   |----|    k3   |----|\n",
    "         Fe  |    |--\\/\\/\\--|    |--\\/\\/\\--|    |--\\/\\/\\--|    |\n",
    "        ====>| 10 |         | 30 |         |  3 |         |  2 |\n",
    "             |    |---| |---|    |---| |---|    |---| |---|    |\n",
    "             |----|    c1   |----|    c2   |----|    c3   |----|\n"
   ]
  },
  {
   "cell_type": "markdown",
   "metadata": {},
   "source": [
    "Define the mass, damping and stiffness matrices:"
   ]
  },
  {
   "cell_type": "code",
   "execution_count": null,
   "metadata": {},
   "outputs": [],
   "source": [
    "M1 = 10.\n",
    "M2 = 30.\n",
    "M3 = 3.\n",
    "M4 = 2.\n",
    "c1 = 15.\n",
    "c2 = 15.\n",
    "c3 = 15.\n",
    "k1 = 45000.\n",
    "k2 = 25000.\n",
    "k3 = 10000.\n",
    "\n",
    "MASS = np.array([[M1, 0, 0, 0],\n",
    "                 [0, M2, 0, 0],\n",
    "                 [0, 0, M3, 0],\n",
    "                 [0, 0, 0, M4]])\n",
    "DAMP = np.array([[c1, -c1, 0, 0],\n",
    "                 [-c1, c1+c2, -c2, 0],\n",
    "                 [0, -c2, c2+c3, -c3],\n",
    "                 [0, 0, -c3, c3]])\n",
    "STIF = np.array([[k1, -k1, 0, 0],\n",
    "                 [-k1, k1+k2, -k2, 0],\n",
    "                 [0, -k2, k2+k3, -k3],\n",
    "                 [0, 0, -k3, k3]])"
   ]
  },
  {
   "cell_type": "markdown",
   "metadata": {},
   "source": [
    "Define a time vector and a forcing function:"
   ]
  },
  {
   "cell_type": "code",
   "execution_count": null,
   "metadata": {},
   "outputs": [],
   "source": [
    "h = .001\n",
    "t = np.arange(0, 2, h)\n",
    "F = np.zeros((4, len(t)))\n",
    "F[0, :200] = np.arange(200)\n",
    "F[0, 200:400] = np.arange(200)[::-1]\n",
    "F[0, 400:600] = np.arange(0, -200, -1)\n",
    "F[0, 600:800] = np.arange(0, -200, -1)[::-1]\n",
    "plt.plot(t, F[0])\n",
    "plt.xlabel('Time (s)')\n",
    "plt.ylabel('Force')\n",
    "plt.grid(True)"
   ]
  },
  {
   "cell_type": "markdown",
   "metadata": {},
   "source": [
    "The [pyyeti.ode](../modules/ode.html) module was originally designed only to solve systems that were in modal space via the [pyyeti.ode.SolveUnc](../modules/generated/pyyeti.ode.SolveUnc.html#pyyeti.ode.SolveUnc) solver. Such equations are typically uncoupled, unless the damping is coupled. This is an exact solver assuming piece-wise linear forces. For the current problem, which is not in modal space, the solver now accepts the ``pre_eig=True`` option which will internally transform the problem to modal space.\n",
    "\n",
    "You can also choose the [pyyeti.ode.SolveExp2](../modules/generated/pyyeti.ode.SolveExp2.html#pyyeti.ode.SolveExp2) solver for the current problem. This solver is based on the matrix exponential and is more general than [pyyeti.ode.SolveUnc](../modules/generated/pyyeti.ode.SolveUnc.html#pyyeti.ode.SolveUnc). For uncoupled equations however [pyyeti.ode.SolveUnc](../modules/generated/pyyeti.ode.SolveUnc.html#pyyeti.ode.SolveUnc) is likely significantly faster. Note, even for the [pyyeti.ode.SolveExp2](../modules/generated/pyyeti.ode.SolveExp2.html#pyyeti.ode.SolveExp2) solver, the equations will need to be put in modal space (via the ``pre_eig=True``) if you wish to use static initial conditions."
   ]
  },
  {
   "cell_type": "markdown",
   "metadata": {},
   "source": [
    "#### The [pyyeti.ode.SolveUnc](../modules/generated/pyyeti.ode.SolveUnc.html#pyyeti.ode.SolveUnc) solver\n",
    "\n",
    "Since this system is not in modal space, we'll use the ``pre_eig=True``."
   ]
  },
  {
   "cell_type": "code",
   "execution_count": null,
   "metadata": {},
   "outputs": [],
   "source": [
    "ts = ode.SolveUnc(MASS, DAMP, STIF, h, pre_eig=True)"
   ]
  },
  {
   "cell_type": "markdown",
   "metadata": {},
   "source": [
    "At this point, many pre-calculations are done and the `ts` object is ready to be called (repeatedly if necessary) to solve the equations of motion with arbitrary forces and initial conditions. The time domain solver is called via the method [tsolve](../modules/generated/pyyeti.ode.SolveUnc.tsolve.html#pyyeti.ode.SolveUnc.tsolve):"
   ]
  },
  {
   "cell_type": "code",
   "execution_count": null,
   "metadata": {},
   "outputs": [],
   "source": [
    "sol = ts.tsolve(F)"
   ]
  },
  {
   "cell_type": "markdown",
   "metadata": {},
   "source": [
    "`sol` is a SimpleNamespace with the members:\n",
    "\n",
    "* .a - acceleration\n",
    "* .v - velocity\n",
    "* .d - displacement\n",
    "* .t - time vector\n",
    "* .h - time step\n",
    "\n",
    "Plot the acceleration responses (assume metric units):"
   ]
  },
  {
   "cell_type": "code",
   "execution_count": null,
   "metadata": {},
   "outputs": [],
   "source": [
    "for j in range(sol.a.shape[0]):\n",
    "    plt.plot(sol.t, sol.a[j], label='Acce {:d}'.format(j+1))\n",
    "plt.legend(loc='best')\n",
    "plt.xlabel('Time (s)')\n",
    "plt.ylabel(r'Acceleration (m/$sec^2$)')\n",
    "plt.grid(True)"
   ]
  },
  {
   "cell_type": "markdown",
   "metadata": {},
   "source": [
    "Plot the velocities:"
   ]
  },
  {
   "cell_type": "code",
   "execution_count": null,
   "metadata": {},
   "outputs": [],
   "source": [
    "for j in range(sol.v.shape[0]):\n",
    "    plt.plot(sol.t, sol.v[j], label='Velocity {:d}'.format(j+1))\n",
    "plt.legend(loc='best')\n",
    "plt.xlabel('Time (s)')\n",
    "plt.ylabel('Velocity (m/sec)')\n",
    "plt.grid(True)"
   ]
  },
  {
   "cell_type": "markdown",
   "metadata": {},
   "source": [
    "Plot the displacements:"
   ]
  },
  {
   "cell_type": "code",
   "execution_count": null,
   "metadata": {},
   "outputs": [],
   "source": [
    "for j in range(sol.d.shape[0]):\n",
    "    plt.plot(sol.t, sol.d[j], label='Displacement {:d}'.format(j+1))\n",
    "plt.legend(loc='best')\n",
    "plt.xlabel('Time (s)')\n",
    "plt.ylabel('Displacement (m)')\n",
    "plt.grid(True)"
   ]
  },
  {
   "cell_type": "markdown",
   "metadata": {},
   "source": [
    "---\n",
    "#### The [pyyeti.ode.SolveExp2](../modules/generated/pyyeti.ode.SolveExp2.html#pyyeti.ode.SolveExp2) solver\n",
    "\n",
    "For demonstration, we'll solve the same system using the [pyyeti.ode.SolveExp2](../modules/generated/pyyeti.ode.SolveExp2.html#pyyeti.ode.SolveExp2) solver. Since we're not using static initial conditions, we don't need to use the `pre_eig` option. In this case, not using it would be more efficient since it would do less work. For demonstration, we'll use both:"
   ]
  },
  {
   "cell_type": "code",
   "execution_count": null,
   "metadata": {},
   "outputs": [],
   "source": [
    "ts1 = ode.SolveExp2(MASS, DAMP, STIF, h)\n",
    "ts2 = ode.SolveExp2(MASS, DAMP, STIF, h, pre_eig=True)"
   ]
  },
  {
   "cell_type": "markdown",
   "metadata": {},
   "source": [
    "Solve with both solvers and demonstrate they give the same results:"
   ]
  },
  {
   "cell_type": "code",
   "execution_count": null,
   "metadata": {},
   "outputs": [],
   "source": [
    "sol1 = ts1.tsolve(F)\n",
    "sol2 = ts2.tsolve(F)\n",
    "\n",
    "assert np.allclose(sol1.a, sol2.a)\n",
    "assert np.allclose(sol1.v, sol2.v)\n",
    "assert np.allclose(sol1.d, sol2.d)"
   ]
  },
  {
   "cell_type": "markdown",
   "metadata": {},
   "source": [
    "Show the results are also the same as the [pyyeti.ode.SolveUnc](../modules/generated/pyyeti.ode.SolveUnc.html#pyyeti.ode.SolveUnc) solver:"
   ]
  },
  {
   "cell_type": "code",
   "execution_count": null,
   "metadata": {},
   "outputs": [],
   "source": [
    "assert np.allclose(sol1.a, sol.a)\n",
    "assert np.allclose(sol1.v, sol.v)\n",
    "assert np.allclose(sol1.d, sol.d)"
   ]
  }
 ],
 "metadata": {
  "kernelspec": {
   "display_name": "Python 3 (ipykernel)",
   "language": "python",
   "name": "python3"
  },
  "language_info": {
   "codemirror_mode": {
    "name": "ipython",
    "version": 3
   },
   "file_extension": ".py",
   "mimetype": "text/x-python",
   "name": "python",
   "nbconvert_exporter": "python",
   "pygments_lexer": "ipython3",
   "version": "3.10.4"
  }
 },
 "nbformat": 4,
 "nbformat_minor": 1
}
